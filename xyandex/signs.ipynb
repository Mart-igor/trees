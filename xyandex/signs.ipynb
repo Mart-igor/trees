{
 "cells": [
  {
   "cell_type": "code",
   "execution_count": null,
   "metadata": {},
   "outputs": [],
   "source": [
    "def sign(segments):\n",
    "    atrib = set()\n",
    "    while segments:\n",
    "        r_m = min(segment[1] for segment in segments)\n",
    "        atrib.add(r_m)\n",
    "        segments = [segment for segment in segments if segment[0] > r_m]"
   ]
  },
  {
   "cell_type": "code",
   "execution_count": null,
   "metadata": {},
   "outputs": [],
   "source": [
    "def sigh(n, lst):\n",
    "    sorted = lst.sort(key=lambda x: x[1])\n",
    "    points = []\n",
    "    last_poing = None\n",
    "    for ls in lst:\n",
    "        if last_poing is None and ls[0] > last_point:\n",
    "            last_poing = ls[1]\n",
    "            points.append(last_poing)"
   ]
  },
  {
   "cell_type": "markdown",
   "metadata": {},
   "source": [
    "### 2"
   ]
  },
  {
   "cell_type": "code",
   "execution_count": null,
   "metadata": {},
   "outputs": [],
   "source": [
    "def count(L, lst):\n",
    "    lst.sort()\n",
    "    i = 0\n",
    "\n",
    "    while i < len(lst):\n",
    "        count += 1\n",
    "\n",
    "        left = lst[i]\n",
    "        right = L + left\n",
    "        while i < len(lst) and lst[i] <= right:\n",
    "            i += 1"
   ]
  },
  {
   "cell_type": "markdown",
   "metadata": {},
   "source": [
    "### 3"
   ]
  },
  {
   "cell_type": "markdown",
   "metadata": {},
   "source": []
  }
 ],
 "metadata": {
  "kernelspec": {
   "display_name": "base",
   "language": "python",
   "name": "python3"
  },
  "language_info": {
   "name": "python",
   "version": "3.11.4"
  }
 },
 "nbformat": 4,
 "nbformat_minor": 2
}
