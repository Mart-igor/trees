{
 "cells": [
  {
   "cell_type": "code",
   "execution_count": 1,
   "metadata": {},
   "outputs": [
    {
     "name": "stdout",
     "output_type": "stream",
     "text": [
      "[11, 12, 22, 25, 64]\n"
     ]
    }
   ],
   "source": [
    "def selection_sort(lis):\n",
    "    n = len(lis)\n",
    "    for i in range(n):\n",
    "        # Предполагаем, что текущий элемент минимален\n",
    "        min_index = i\n",
    "        # Ищем минимальный элемент в оставшейся части списка\n",
    "        for j in range(i + 1, n):\n",
    "            if lis[j] < lis[min_index]:\n",
    "                min_index = j\n",
    "        # Меняем местами текущий элемент и найденный минимальный\n",
    "        lis[i], lis[min_index] = lis[min_index], lis[i]\n",
    "    return lis\n",
    "\n",
    "# Пример использования\n",
    "a = [64, 25, 12, 22, 11]\n",
    "sorted_a = selection_sort(a)\n",
    "print(sorted_a)\n"
   ]
  },
  {
   "cell_type": "code",
   "execution_count": null,
   "metadata": {},
   "outputs": [],
   "source": [
    "def selection_sort_recursive(lis, start=0):\n",
    "    # Базовый случай: если достигнут последний элемент\n",
    "    if start >= len(lis) - 1:\n",
    "        return lis\n",
    "\n",
    "    # Находим индекс минимального элемента в оставшейся части списка\n",
    "    min_index = start\n",
    "    for j in range(start + 1, len(lis)):\n",
    "        if lis[j] < lis[min_index]:\n",
    "            min_index = j\n",
    "\n",
    "    lis[start], lis[min_index] = lis[min_index], lis[start]\n",
    "    return selection_sort_recursive(lis, start + 1)\n"
   ]
  },
  {
   "cell_type": "code",
   "execution_count": 2,
   "metadata": {},
   "outputs": [
    {
     "name": "stdout",
     "output_type": "stream",
     "text": [
      "[2, 2, 2, 3, 9]\n"
     ]
    }
   ],
   "source": [
    "def merge_sort(arr):\n",
    "    if len(arr) <= 1:\n",
    "        return arr\n",
    "\n",
    "    # Разделяем массив на две половины\n",
    "    mid = len(arr) // 2\n",
    "    left_half = merge_sort(arr[:mid])\n",
    "    right_half = merge_sort(arr[mid:])\n",
    "\n",
    "    # Сливаем отсортированные половины\n",
    "    return merge(left_half, right_half)\n",
    "\n",
    "def merge(left, right):\n",
    "    sorted_array = []\n",
    "    left_index, right_index = 0, 0\n",
    "\n",
    "    # Сравниваем элементы двух половин и объединяем их в отсортированный массив\n",
    "    while left_index < len(left) and right_index < len(right):\n",
    "        if left[left_index] < right[right_index]:\n",
    "            sorted_array.append(left[left_index])\n",
    "            left_index += 1\n",
    "        else:\n",
    "            sorted_array.append(right[right_index])\n",
    "            right_index += 1\n",
    "\n",
    "    # Добавляем оставшиеся элементы\n",
    "    sorted_array.extend(left[left_index:])\n",
    "    sorted_array.extend(right[right_index:])\n",
    "\n",
    "    return sorted_array\n",
    "\n",
    "# Пример использования\n",
    "a = [2, 3 ,9, 2, 2]\n",
    "sorted_a = merge_sort(a)\n",
    "print(sorted_a)\n"
   ]
  },
  {
   "cell_type": "code",
   "execution_count": 1,
   "metadata": {},
   "outputs": [
    {
     "name": "stdout",
     "output_type": "stream",
     "text": [
      "Отсортированный массив: [11, 12, 22, 25, 64]\n"
     ]
    }
   ],
   "source": [
    "import random\n",
    "\n",
    "def quicksort(arr):\n",
    "    # Базовый случай: если массив пустой или содержит один элемент, он уже отсортирован\n",
    "    if len(arr) <= 1:\n",
    "        return arr\n",
    "    else:\n",
    "        # Выбор случайного опорного элемента\n",
    "        pivot = random.choice(arr)\n",
    "        \n",
    "        # Разделение массива на три части\n",
    "        less_than_pivot = [x for x in arr if x < pivot]  # Элементы меньше опорного\n",
    "        equal_to_pivot = [x for x in arr if x == pivot]  # Элементы равные опорному\n",
    "        greater_than_pivot = [x for x in arr if x > pivot]  # Элементы больше опорного\n",
    "        \n",
    "        # Рекурсивная сортировка и объединение результатов\n",
    "        return quicksort(less_than_pivot) + equal_to_pivot + quicksort(greater_than_pivot)\n",
    "\n",
    "# Пример использования\n",
    "arr = [64, 25, 12, 22, 11]\n",
    "sorted_arr = quicksort(arr)\n",
    "print(\"Отсортированный массив:\", sorted_arr)"
   ]
  },
  {
   "cell_type": "code",
   "execution_count": null,
   "metadata": {},
   "outputs": [],
   "source": []
  }
 ],
 "metadata": {
  "kernelspec": {
   "display_name": "base",
   "language": "python",
   "name": "python3"
  },
  "language_info": {
   "codemirror_mode": {
    "name": "ipython",
    "version": 3
   },
   "file_extension": ".py",
   "mimetype": "text/x-python",
   "name": "python",
   "nbconvert_exporter": "python",
   "pygments_lexer": "ipython3",
   "version": "3.11.4"
  }
 },
 "nbformat": 4,
 "nbformat_minor": 2
}
