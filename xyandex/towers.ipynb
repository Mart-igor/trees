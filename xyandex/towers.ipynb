{
 "cells": [
  {
   "cell_type": "code",
   "execution_count": null,
   "metadata": {},
   "outputs": [],
   "source": [
    "def tow(n, first, second, third):\n",
    "    if n == 1:\n",
    "        print(f'{n} from {first} to {second}')\n",
    "        return \n",
    "    tow(n - 1, first, third, second)\n",
    "    print(f'{n} from {third} to {second}')\n",
    "    tow(n - 1, third, second, first)\n"
   ]
  },
  {
   "cell_type": "markdown",
   "metadata": {},
   "source": [
    "### 4 sterjniy"
   ]
  },
  {
   "cell_type": "code",
   "execution_count": null,
   "metadata": {},
   "outputs": [],
   "source": [
    "def hanoi_min_moves(n):\n",
    "    if n == 1:\n",
    "        return 1\n",
    "    if n == 2:\n",
    "        return 2\n",
    "    if n == 3:\n",
    "        return 5\n",
    "    maci = float('inf')\n",
    "    for m in range(1, n):\n",
    "        min = 2 * hanoi_min_moves(m) + (2 ** (n - j) + 1)\n",
    "        ma = min(maci, min)\n",
    "    return ma\n",
    "\n",
    "# Вычисляем для n = 6\n",
    "result = hanoi_min_moves(6)\n",
    "print(result)"
   ]
  },
  {
   "cell_type": "code",
   "execution_count": null,
   "metadata": {},
   "outputs": [],
   "source": [
    "def hanoi_min_moves(n):\n",
    "    moves = [0] * (n + 1)\n",
    "    moves[1] = 1\n",
    "    if n >= 2:\n",
    "        moves[2] = 3\n",
    "    for i in range(3, n + 1):\n",
    "        min_moves = float('inf')\n",
    "        for k in range(1, i):\n",
    "            current_moves = 2 * moves[k] + moves[i - k] + 1\n",
    "            min_moves = min(min_moves, current_moves)\n",
    "        moves[i] = min_moves\n",
    "    \n",
    "    return moves[n]"
   ]
  }
 ],
 "metadata": {
  "kernelspec": {
   "display_name": "firstvenv",
   "language": "python",
   "name": "python3"
  },
  "language_info": {
   "name": "python",
   "version": "3.9.1"
  }
 },
 "nbformat": 4,
 "nbformat_minor": 2
}
