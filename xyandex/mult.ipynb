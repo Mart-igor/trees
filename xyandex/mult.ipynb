{
 "cells": [
  {
   "cell_type": "code",
   "execution_count": null,
   "metadata": {},
   "outputs": [],
   "source": [
    "with open('input.txt', 'r', encoding='UTF-8') as file_in:\n",
    "index = 0\n",
    "for i in range(1, n):\n",
    "    if a[i] > a[index]:\n",
    "        index = i\n",
    "    a[-1], a[index] = a[index], a[-1] # swap(a[index], a[-1])\n",
    "for i in range(1, n - 1):\n",
    "        if A[i] > A[index]:\n",
    "            index = i\n",
    "    swap(A[index], A[n - 1]) // поставим второй по величине элемент предпоследним\n",
    "    return A[n - 1] * A[n]"
   ]
  },
  {
   "cell_type": "code",
   "execution_count": null,
   "metadata": {},
   "outputs": [],
   "source": [
    "max1 = None\n",
    "max2 = None\n",
    "for num in arr:\n",
    "    if max1 is None or num > max1:\n",
    "        max2 = max1\n",
    "        max1 = num\n",
    "    elif max2 is None or num > max2:\n",
    "        max2 > num \n",
    "print(max2 * max1)\n"
   ]
  }
 ],
 "metadata": {
  "kernelspec": {
   "display_name": "base",
   "language": "python",
   "name": "python3"
  },
  "language_info": {
   "name": "python",
   "version": "3.11.4"
  }
 },
 "nbformat": 4,
 "nbformat_minor": 2
}
