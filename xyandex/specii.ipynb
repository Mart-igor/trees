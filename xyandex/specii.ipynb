{
 "cells": [
  {
   "cell_type": "code",
   "execution_count": 8,
   "metadata": {},
   "outputs": [
    {
     "name": "stdout",
     "output_type": "stream",
     "text": [
      "Максимальная стоимость украденных специй: 115\n"
     ]
    }
   ],
   "source": [
    "def knapsack(n, W, weights, values):\n",
    "    # Инициализация массива dp\n",
    "    dp = [0] * (W + 1)\n",
    "\n",
    "    # Итерация по всем видам специй\n",
    "    for i in range(n):\n",
    "        w_i = weights[i]\n",
    "        c_i = values[i]\n",
    "        # Обновляем dp массив с конца\n",
    "        for j in range(W, -1, -1):\n",
    "            # Рассматриваем все возможные веса от 0 до w_i\n",
    "            for u_i in range(1, w_i + 1):\n",
    "                if j >= u_i:  # Проверяем, можем ли мы взять u_i фунтов\n",
    "                    dp[j] = max(dp[j], dp[j - u_i] + c_i * u_i)\n",
    "\n",
    "    return dp[W]\n",
    "\n",
    "# Пример использования\n",
    "n = 3  # количество видов специй\n",
    "W = 6  # максимальный вес рюкзака\n",
    "weights = [3, 5, 2]  # максимальные веса для каждого вида\n",
    "values = [10, 20, 15]  # стоимость за фунт для каждого вида\n",
    "\n",
    "max_value = knapsack(n, W, weights, values)\n",
    "print(f\"Максимальная стоимость украденных специй: {max_value}\")\n"
   ]
  },
  {
   "cell_type": "code",
   "execution_count": 6,
   "metadata": {},
   "outputs": [
    {
     "name": "stdout",
     "output_type": "stream",
     "text": [
      "Максимальная стоимость, которую можно получить: 31.0\n"
     ]
    }
   ],
   "source": [
    "def MaximumLoot(W, Weight, Cost):\n",
    "    # Базовый случай: если вес рюкзака равен 0 или нет предметов\n",
    "    if W == 0 or not Weight:\n",
    "        return 0\n",
    "\n",
    "    # Находим индекс самого дорогого предмета (с наибольшей стоимостью за единицу веса)\n",
    "    m = max(range(len(Cost)), key=lambda i: Cost[i] / Weight[i])\n",
    "    \n",
    "    # Определяем, сколько можем взять этого предмета\n",
    "    amount = min(Weight[m], W)\n",
    "    \n",
    "    # Рассчитываем стоимость, которую мы можем получить от этого предмета\n",
    "    value = Cost[m] / Weight[m] * amount\n",
    "    \n",
    "    # Удаляем m-й элемент из Weight и Cost\n",
    "    Weight.pop(m)\n",
    "    Cost.pop(m)\n",
    "    \n",
    "    # Рекурсивный вызов для оставшихся предметов и оставшегося веса\n",
    "    return value + MaximumLoot(W - amount, Weight, Cost)\n",
    "\n",
    "# Пример использования\n",
    "W = 6  # Максимальный вес рюкзака\n",
    "Weight = [3, 5, 2]  # Веса предметов\n",
    "Cost = [10, 20, 15]  # Стоимости предметов\n",
    "\n",
    "max_value = MaximumLoot(W, Weight, Cost)\n",
    "print(f\"Максимальная стоимость, которую можно получить: {max_value}\")\n"
   ]
  },
  {
   "cell_type": "code",
   "execution_count": null,
   "metadata": {},
   "outputs": [],
   "source": []
  }
 ],
 "metadata": {
  "kernelspec": {
   "display_name": "base",
   "language": "python",
   "name": "python3"
  },
  "language_info": {
   "codemirror_mode": {
    "name": "ipython",
    "version": 3
   },
   "file_extension": ".py",
   "mimetype": "text/x-python",
   "name": "python",
   "nbconvert_exporter": "python",
   "pygments_lexer": "ipython3",
   "version": "3.11.4"
  }
 },
 "nbformat": 4,
 "nbformat_minor": 2
}
