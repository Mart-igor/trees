{
 "cells": [
  {
   "cell_type": "code",
   "execution_count": null,
   "metadata": {},
   "outputs": [],
   "source": [
    "def winner(n):\n",
    "    k = 0 \n",
    "    total = 0\n",
    "    while total + (k + 1) <= n:\n",
    "        k += 1\n",
    "        total += k \n",
    "    winners = list(range(1, (k + 1)))\n",
    "    s = n - total\n",
    "    if s > 0:\n",
    "        winners[-1] = s\n",
    "    return k, winners"
   ]
  }
 ],
 "metadata": {
  "kernelspec": {
   "display_name": "base",
   "language": "python",
   "name": "python3"
  },
  "language_info": {
   "name": "python",
   "version": "3.11.4"
  }
 },
 "nbformat": 4,
 "nbformat_minor": 2
}
