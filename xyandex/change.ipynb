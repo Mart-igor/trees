{
 "cells": [
  {
   "cell_type": "code",
   "execution_count": null,
   "metadata": {},
   "outputs": [],
   "source": [
    "def all_combinations(money, coins, current_comb, all_comb):\n",
    "    if money == 0:\n",
    "        all_comb.append(current_comb.copy())\n",
    "        return\n",
    "    if money < 0:\n",
    "        return\n",
    "    for coin in coins:\n",
    "        current_comb.append(coin)\n",
    "        all_combinations(money - coin, coins, current_comb, all_comb)\n",
    "        current_comb.pop()\n",
    "\n",
    "def get_coin_comb(money):\n",
    "    coins = [1, 5, 10]\n",
    "    all_comb = []\n",
    "    all_combinations(money, coins, [], all_comb)\n",
    "    return all_comb\n",
    "\n",
    "def main():\n",
    "    money = int(input())\n",
    "    combs = get_coin_comb(money)\n",
    "    print(len(combs))\n",
    "    for comb in combs:\n",
    "        print(comb)\n",
    "\n",
    "if __name__ == '__main__':\n",
    "    main()\n"
   ]
  },
  {
   "cell_type": "code",
   "execution_count": 1,
   "metadata": {},
   "outputs": [
    {
     "name": "stdout",
     "output_type": "stream",
     "text": [
      "Количество подходящих наборов монет: 6\n",
      "[1, 1, 1, 1, 1, 1, 1, 1, 1, 1, 1, 1, 1, 1, 1]\n",
      "[1, 1, 1, 1, 1, 1, 1, 1, 1, 1, 5]\n",
      "[1, 1, 1, 1, 1, 5, 5]\n",
      "[5, 5, 5]\n",
      "[1, 1, 1, 1, 1, 10]\n",
      "[5, 10]\n"
     ]
    }
   ],
   "source": [
    "def get_coin_combinations(money):\n",
    "    coins = [1, 5, 10]\n",
    "    # Создаем список для хранения всех комбинаций\n",
    "    dp = [[] for _ in range(money + 1)]\n",
    "    dp[0] = [[]]  # Один способ составить сумму 0 — не использовать монеты\n",
    "\n",
    "    for coin in coins:\n",
    "        for current_money in range(coin, money + 1):\n",
    "            for combination in dp[current_money - coin]:\n",
    "                dp[current_money].append(combination + [coin])\n",
    "\n",
    "    return dp[money]\n",
    "\n",
    "def main():\n",
    "    money = int(input(\"Введите сумму денег: \"))\n",
    "    combinations = get_coin_combinations(money)\n",
    "\n",
    "    print(f\"Количество подходящих наборов монет: {len(combinations)}\")\n",
    "    for combination in combinations:\n",
    "        print(combination)\n",
    "\n",
    "if __name__ == \"__main__\":\n",
    "    main()\n"
   ]
  },
  {
   "cell_type": "code",
   "execution_count": 5,
   "metadata": {},
   "outputs": [
    {
     "name": "stdout",
     "output_type": "stream",
     "text": [
      "[0, 1, 2, 3, 4, 1, 2, 3, 4, 5, 1, 2, 3, 4, 5, 2]\n"
     ]
    }
   ],
   "source": [
    "def min_coins(coins, total):\n",
    "    dp = [float('inf')] * (total + 1)\n",
    "    dp[0] = 0\n",
    "    for coin in coins:\n",
    "        for i in range(coin, total + 1):\n",
    "            dp[i] = dp[i - coin] + 1\n",
    "    return dp\n",
    "\n",
    "coins = [1, 5, 10]\n",
    "total = 15\n",
    "print(min_coins(coins, total))"
   ]
  },
  {
   "cell_type": "code",
   "execution_count": null,
   "metadata": {},
   "outputs": [],
   "source": []
  }
 ],
 "metadata": {
  "kernelspec": {
   "display_name": "base",
   "language": "python",
   "name": "python3"
  },
  "language_info": {
   "codemirror_mode": {
    "name": "ipython",
    "version": 3
   },
   "file_extension": ".py",
   "mimetype": "text/x-python",
   "name": "python",
   "nbconvert_exporter": "python",
   "pygments_lexer": "ipython3",
   "version": "3.11.4"
  }
 },
 "nbformat": 4,
 "nbformat_minor": 2
}
