{
 "cells": [
  {
   "cell_type": "code",
   "execution_count": 7,
   "metadata": {},
   "outputs": [
    {
     "name": "stdout",
     "output_type": "stream",
     "text": [
      "79\n"
     ]
    }
   ],
   "source": [
    "def advertising(lst1, lst2):\n",
    "    if not lst1 or not lst2:\n",
    "        return 0\n",
    "    a = lst1[0] * lst2[0]\n",
    "    return a + advertising(lst1[1:], lst2[1:])\n",
    "\n",
    "def sortt(lst):\n",
    "    a = len(lst)\n",
    "    for i in range(a):\n",
    "        max_item = i \n",
    "        for j in range(i + 1, a):\n",
    "            if lst[j] > lst[max_item]:\n",
    "                max_item = j\n",
    "        lst[i], lst[max_item] = lst[max_item], lst[i]\n",
    "    return lst\n",
    "\n",
    "lst1 = [2, 3, 9]\n",
    "lst2 = [7, 4, 2]\n",
    "\n",
    "if __name__ == '__main__':\n",
    "    lst1 = sortt(lst1)\n",
    "    list2 = sortt(lst2)\n",
    "    print(advertising(lst1, lst2))\n",
    "\n"
   ]
  },
  {
   "cell_type": "code",
   "execution_count": 9,
   "metadata": {},
   "outputs": [
    {
     "name": "stdout",
     "output_type": "stream",
     "text": [
      "[(5, 1), (4, 3), (2, 2), (1, 3)]\n"
     ]
    }
   ],
   "source": [
    "def sort_offers(offers: list, start=0) -> list:\n",
    "    lenth = len(offers)\n",
    "    if start >= lenth:\n",
    "        return offers\n",
    "    max_item = start\n",
    "    for offer in range(start + 1, lenth):\n",
    "        if offers[offer][0] > offers[max_item][0]:\n",
    "            max_item = offer\n",
    "    offers[start], offers[max_item] = offers[max_item], offers[start]\n",
    "    return sort_offers(offers, start + 1)\n",
    "\n",
    "def income(offers, quatity_bord, quatity_week):\n",
    "    sorted_offers = \n",
    "    weeks = [0] * quatity_week\n",
    "    for i in range(quatity_bord):\n",
    "        \n",
    "\n",
    "print(sort_offers([(5, 1), (2, 2), (4, 3), (1,3)]))"
   ]
  },
  {
   "cell_type": "code",
   "execution_count": 13,
   "metadata": {},
   "outputs": [
    {
     "data": {
      "text/plain": [
       "2"
      ]
     },
     "execution_count": 13,
     "metadata": {},
     "output_type": "execute_result"
    }
   ],
   "source": [
    "from itertools import product\n",
    "\n",
    "def maximize_profit(n, w, advertisers):\n",
    "    # advertisers - список кортежей (ci, wi) для каждого рекламодателя\n",
    "    # ci - оплата за неделю, wi - максимальное количество недель\n",
    "    offers = []\n",
    "\n",
    "    # Генерация всех возможных предложений\n",
    "    for idx, (c, max_weeks) in enumerate(advertisers):\n",
    "        for weeks in range(1, max_weeks + 1):\n",
    "            offers.append((c * weeks, weeks, idx))  # (доход, количество недель, ID рекламодателя)\n",
    "\n",
    "    # Сортируем предложения по доходу в порядке убывания\n",
    "    offers.sort(reverse=True, key=lambda x: x[0])\n",
    "\n",
    "    total_profit = 0\n",
    "    # Список, чтобы отслеживать, сколько недель занято у каждого рекламодателя\n",
    "    weeks_used = [0] * len(advertisers)\n",
    "    # Структура для отслеживания занятых билбордов по неделям\n",
    "    billboard_usage = [[0] * n for _ in range(w)]  # w недель, n билбордов\n",
    "\n",
    "    # Используем жадный подход для выбора предложений\n",
    "    for profit, weeks, advertiser_id in offers:\n",
    "        # Проверяем, можем ли мы разместить рекламу на свободных билбордах\n",
    "        for week in range(w):\n",
    "            if weeks_used[advertiser_id] + weeks <= advertisers[advertiser_id][1]:\n",
    "                # Проверяем, достаточно ли свободных билбордов\n",
    "                free_billboards = [b for b in range(n) if billboard_usage[week][b] == 0]\n",
    "                if len(free_billboards) > 0:\n",
    "                    # Размещаем рекламу на первом доступном билборде\n",
    "                    billboard_usage[week][free_billboards[0]] = advertiser_id + 1  # Указываем, что данный билборд занят\n",
    "                    total_profit += profit\n",
    "                    weeks_used[advertiser_id] += weeks  # Обновляем количество использованных недель\n",
    "                    break  # Переходим к следующему предложению\n",
    "\n",
    "    return total_profit\n",
    "\n",
    "# Пример использования\n",
    "n = 3  # Количество билбордов\n",
    "w = 4  # Количество недель\n",
    "advertisers = [\n",
    "    (5, 3),  # (оплата за неделю, максимальное количество недель)\n",
    "    (2, 2),\n",
    "    (4, 4),\n",
    "    (1, 1)\n",
    "]\n",
    "\n",
    "# Вывод результата\n",
    "result = maximize_profit(n, w, advertisers)\n",
    "print(result)  # Ожидаемый вывод: максимальная прибыль\n",
    "\n",
    "Найти еще"
   ]
  },
  {
   "cell_type": "code",
   "execution_count": null,
   "metadata": {},
   "outputs": [],
   "source": []
  }
 ],
 "metadata": {
  "kernelspec": {
   "display_name": "base",
   "language": "python",
   "name": "python3"
  },
  "language_info": {
   "codemirror_mode": {
    "name": "ipython",
    "version": 3
   },
   "file_extension": ".py",
   "mimetype": "text/x-python",
   "name": "python",
   "nbconvert_exporter": "python",
   "pygments_lexer": "ipython3",
   "version": "3.11.4"
  }
 },
 "nbformat": 4,
 "nbformat_minor": 2
}
