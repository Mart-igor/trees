{
 "cells": [
  {
   "cell_type": "code",
   "execution_count": 12,
   "metadata": {},
   "outputs": [
    {
     "name": "stdout",
     "output_type": "stream",
     "text": [
      "2\n"
     ]
    }
   ],
   "source": [
    "n = 3\n",
    "def fib(n):\n",
    "    if n <= 1:\n",
    "        return n\n",
    "    return fib(n - 1) + fib(n - 2)\n",
    "print(fib(3))\n"
   ]
  },
  {
   "cell_type": "code",
   "execution_count": 24,
   "metadata": {},
   "outputs": [
    {
     "name": "stdout",
     "output_type": "stream",
     "text": [
      "55\n"
     ]
    }
   ],
   "source": [
    "def fib(n):\n",
    "    F = [0] * (n + 1)\n",
    "    if n <= 1:\n",
    "        return n\n",
    "    F[0] = 0\n",
    "    F[1] = 1\n",
    "    for i in range(2, n + 1):\n",
    "        F[i] = F[i-1] + F[i - 2]\n",
    "    return F[n]\n",
    "print(fib(10))"
   ]
  },
  {
   "cell_type": "code",
   "execution_count": 30,
   "metadata": {},
   "outputs": [
    {
     "name": "stdout",
     "output_type": "stream",
     "text": [
      "2\n"
     ]
    }
   ],
   "source": [
    "def fib(n):\n",
    "    if n <= 1:\n",
    "        return n\n",
    "    current = 1\n",
    "    previous = 0\n",
    "    for i in range(n - 1):\n",
    "        old = previous\n",
    "        previous = current\n",
    "        current = old + previous\n",
    "    return current\n",
    "print(fib(int(input())))"
   ]
  },
  {
   "cell_type": "code",
   "execution_count": null,
   "metadata": {},
   "outputs": [],
   "source": [
    "Fibonacci(n):\n",
    "    if table[n] ещё не вычисляли:\n",
    "        if n <= 1:\n",
    "            table[n] = n\n",
    "        else:\n",
    "            table[n] = Fibonacci(n−2)+Fibonacci(n−1)\n",
    "    return table[n]"
   ]
  },
  {
   "cell_type": "code",
   "execution_count": null,
   "metadata": {},
   "outputs": [],
   "source": []
  },
  {
   "attachments": {
    "image.png": {
     "image/png": "[encoded data removed]"
    }
   },
   "cell_type": "markdown",
   "metadata": {},
   "source": [
    "![image.png](attachment:image.png)"
   ]
  },
  {
   "cell_type": "code",
   "execution_count": null,
   "metadata": {},
   "outputs": [],
   "source": [
    "def fib(n):\n",
    "    if n <= 1:\n",
    "        return n\n",
    "    F = [0] * (n + 1)\n",
    "    F[0] = 0\n",
    "    F[1] = 1\n",
    "    for i in range(2, n + 1):\n",
    "        F[i] = (F[i - 1] + F[i - 2]) % 10\n",
    "    return F[i]\n",
    "print(fib(int(input())))"
   ]
  },
  {
   "cell_type": "code",
   "execution_count": 36,
   "metadata": {},
   "outputs": [
    {
     "name": "stderr",
     "output_type": "stream",
     "text": [
      "\n",
      "KeyboardInterrupt\n",
      "\n"
     ]
    }
   ],
   "source": [
    "def fib(n, m):\n",
    "    if n <= 1:\n",
    "        return n\n",
    "    F = [0] * (n + 1)\n",
    "    F[0] = 0\n",
    "    F[1] = 1\n",
    "    for i in range(2, n + 1):\n",
    "        F[i] = (F[i - 1] + F[i - 2]) % m\n",
    "    return F[i]\n",
    "print(fib(*list(map(int, input().split()))))"
   ]
  },
  {
   "cell_type": "code",
   "execution_count": null,
   "metadata": {},
   "outputs": [],
   "source": []
  }
 ],
 "metadata": {
  "kernelspec": {
   "display_name": "base",
   "language": "python",
   "name": "python3"
  },
  "language_info": {
   "codemirror_mode": {
    "name": "ipython",
    "version": 3
   },
   "file_extension": ".py",
   "mimetype": "text/x-python",
   "name": "python",
   "nbconvert_exporter": "python",
   "pygments_lexer": "ipython3",
   "version": "3.11.4"
  }
 },
 "nbformat": 4,
 "nbformat_minor": 2
}
