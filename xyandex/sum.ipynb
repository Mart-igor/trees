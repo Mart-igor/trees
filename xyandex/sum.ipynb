{
 "cells": [
  {
   "cell_type": "code",
   "execution_count": null,
   "metadata": {},
   "outputs": [],
   "source": [
    "with open('inputt.txt', 'r', encoding='UTF-8') as file_in:\n",
    "    a, b = tuple(map(int, file_in.readline().rstrip().split()))"
   ]
  },
  {
   "cell_type": "code",
   "execution_count": null,
   "metadata": {},
   "outputs": [],
   "source": [
    "def sum(a, b):\n",
    "    return a + b"
   ]
  },
  {
   "cell_type": "code",
   "execution_count": 20,
   "metadata": {},
   "outputs": [
    {
     "name": "stdout",
     "output_type": "stream",
     "text": [
      "3\n",
      "1 3 3 4\n",
      "[1 3 3 4]\n"
     ]
    }
   ],
   "source": [
    "with open('input.txt', 'r', encoding='UTF-8') as file_in:\n",
    "    a = file_in.readlines()\n",
    "maxi = max(int(a[0]), int(a[2]))\n",
    "print(maxi)\n",
    "l = [0] * (int(maxi) + 1)\n",
    "for i in range(1, int(a[0]) + 2):\n",
    "    l[-i] += list(map(int, a[1].rstrip().split()))[-i]\n",
    "for i in range(1, int(a[2]) + 2):\n",
    "    l[-i] += list(map(int, a[3].rstrip().split()))[-i]\n",
    "print(*l)"
   ]
  },
  {
   "cell_type": "code",
   "execution_count": 30,
   "metadata": {},
   "outputs": [
    {
     "name": "stdout",
     "output_type": "stream",
     "text": [
      "adbecf"
     ]
    }
   ],
   "source": [
    "with open('input.txt', 'r', encoding='UTF-8') as file_in:\n",
    "    a = file_in.readlines()\n",
    "a = [line.strip() for line in a]\n",
    "for i in range(int(a[0])):\n",
    "    print(a[1][i] + a[2][i], end='')"
   ]
  },
  {
   "cell_type": "code",
   "execution_count": 38,
   "metadata": {},
   "outputs": [],
   "source": [
    "import numpy as np"
   ]
  },
  {
   "cell_type": "code",
   "execution_count": 61,
   "metadata": {},
   "outputs": [
    {
     "name": "stdout",
     "output_type": "stream",
     "text": [
      "5 7 9\n"
     ]
    }
   ],
   "source": [
    "with open('input.txt', 'r', encoding='UTF-8') as file_in:\n",
    "    a = file_in.readlines()\n",
    "a = [list(map(int, line.strip().split())) for line in a]\n",
    "b = np.array([a[i] for i in range(1, a[0][0] + 1)])\n",
    "c = np.array([a[i] for i in range(1 + a[0][0], a[0][0] + a[0][0] + 1)])\n",
    "print(*(b + c).flatten())\n"
   ]
  },
  {
   "cell_type": "code",
   "execution_count": null,
   "metadata": {},
   "outputs": [],
   "source": []
  }
 ],
 "metadata": {
  "kernelspec": {
   "display_name": "base",
   "language": "python",
   "name": "python3"
  },
  "language_info": {
   "codemirror_mode": {
    "name": "ipython",
    "version": 3
   },
   "file_extension": ".py",
   "mimetype": "text/x-python",
   "name": "python",
   "nbconvert_exporter": "python",
   "pygments_lexer": "ipython3",
   "version": "3.11.4"
  }
 },
 "nbformat": 4,
 "nbformat_minor": 2
}
