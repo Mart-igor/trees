{
 "cells": [
  {
   "cell_type": "code",
   "execution_count": null,
   "metadata": {
    "vscode": {
     "languageId": "plaintext"
    }
   },
   "outputs": [],
   "source": [
    "start_time = time.time()  # Запоминаем время начала\n",
    "sorted_offers = sort_offers(offers_list)  # Вызываем функцию\n",
    "end_time = time.time() "
   ]
  }
 ],
 "metadata": {
  "language_info": {
   "name": "python"
  }
 },
 "nbformat": 4,
 "nbformat_minor": 2
}
