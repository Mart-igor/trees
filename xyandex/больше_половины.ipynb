{
 "cells": [
  {
   "cell_type": "code",
   "execution_count": null,
   "metadata": {},
   "outputs": [],
   "source": [
    "def ss(arr):\n",
    "    sort_arr = arr.sort()\n",
    "\n",
    "    elem = sort_arr[len(arr) // 2]\n",
    "\n",
    "    count = sort_arr.count(elem)\n",
    "\n",
    "    if count > (len(arr) // 2):\n",
    "        return 1\n",
    "    else:\n",
    "        return 0"
   ]
  },
  {
   "cell_type": "code",
   "execution_count": null,
   "metadata": {},
   "outputs": [],
   "source": [
    "def can(arr):\n",
    "    candi = None\n",
    "    count = 0\n",
    "    \n",
    "    for i in arr:\n",
    "        if count == 0:\n",
    "            candi = i\n",
    "            count = 1\n",
    "        elif candi == i:\n",
    "            count += 1\n",
    "        else:\n",
    "            count -=1\n",
    "    \n",
    "    if candi is not None:\n",
    "        c = sum(1 for x in arr if x == candi)\n",
    "        if c > len(arr) // 2:\n",
    "            return 1\n",
    "    return 0"
   ]
  }
 ],
 "metadata": {
  "kernelspec": {
   "display_name": "base",
   "language": "python",
   "name": "python3"
  },
  "language_info": {
   "name": "python",
   "version": "3.11.4"
  }
 },
 "nbformat": 4,
 "nbformat_minor": 2
}
