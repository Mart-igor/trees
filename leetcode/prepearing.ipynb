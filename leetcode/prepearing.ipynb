{
 "cells": [
  {
   "cell_type": "markdown",
   "metadata": {},
   "source": []
  },
  {
   "cell_type": "code",
   "execution_count": null,
   "metadata": {},
   "outputs": [],
   "source": [
    "def asd(array):\n",
    "    max_bonus = 0\n",
    "    left = 0\n",
    "    numbers = {}\n",
    "    for right in range(len(array)):\n",
    "        while array[right] in numbers:\n",
    "            del numbers[array[left]]\n",
    "            left += 1\n",
    "        numbers[array[right]] = right\n",
    "        max_bonus = max(max_bonus, right - left + 1)\n",
    "    return max_bonus\n"
   ]
  },
  {
   "cell_type": "code",
   "execution_count": null,
   "metadata": {},
   "outputs": [],
   "source": [
    "def delete_zeros(array, target):\n",
    "    new_array = list()\n",
    "    for right in range(len(array)):\n",
    "        if array[right] != 0:\n",
    "            new_array.append(array[right])\n",
    "        else:\n",
    "            continue\n",
    "    return new_array"
   ]
  },
  {
   "cell_type": "code",
   "execution_count": 7,
   "metadata": {},
   "outputs": [],
   "source": [
    "def find_right_pair_of_numbers(array, target):\n",
    "    m = {}\n",
    "    for right in range(len(array)):\n",
    "        if target - array[right] in m:\n",
    "            return [m[target - array[right]], right]\n",
    "        m[array[right]] = right \n",
    "    return None"
   ]
  },
  {
   "cell_type": "code",
   "execution_count": 8,
   "metadata": {},
   "outputs": [
    {
     "name": "stdout",
     "output_type": "stream",
     "text": [
      "[0, 1]\n"
     ]
    }
   ],
   "source": [
    "print(find_right_pair_of_numbers([2,7,11], 9))"
   ]
  },
  {
   "cell_type": "code",
   "execution_count": 12,
   "metadata": {},
   "outputs": [],
   "source": [
    "def proverka(array, target):\n",
    "    l = 0\n",
    "    r = len(array)\n",
    "    while l < r:\n",
    "        m = (l + r) // 2\n",
    "        if array[m] < target:\n",
    "            l = m + 1\n",
    "        else:\n",
    "            r = m\n",
    "    return l if array[l] == target else -1"
   ]
  },
  {
   "cell_type": "code",
   "execution_count": null,
   "metadata": {},
   "outputs": [],
   "source": []
  },
  {
   "cell_type": "code",
   "execution_count": null,
   "metadata": {},
   "outputs": [],
   "source": [
    "def count_negative_numbers(matrix):\n",
    "    count = 0\n",
    "    for row in matrix:\n",
    "        l = 0\n",
    "        r = len(row)\n",
    "        while l <= r:\n",
    "            m = (r + l) // 2\n",
    "            if row[m] >= 0:\n",
    "                l = m + 1\n",
    "            else:\n",
    "                r = m - 1\n",
    "                break\n",
    "    return \n",
    "\n",
    "\n",
    "    return count"
   ]
  },
  {
   "cell_type": "code",
   "execution_count": 10,
   "metadata": {},
   "outputs": [
    {
     "name": "stdout",
     "output_type": "stream",
     "text": [
      "8\n"
     ]
    }
   ],
   "source": [
    "print(count_negative_numbers([[4,3,2,-1],[3,2,1,-1],[1,1,-1,-2],[-1,-1,-2,-3]]\n",
    "))"
   ]
  },
  {
   "cell_type": "code",
   "execution_count": null,
   "metadata": {},
   "outputs": [],
   "source": []
  },
  {
   "cell_type": "code",
   "execution_count": null,
   "metadata": {},
   "outputs": [],
   "source": [
    "def can(num, h, w, s):\n",
    "    rows = h // s\n",
    "    coloumns = w //s\n",
    "    return True if num <= rows * coloumns else False\n",
    "\n",
    "def binary_search(h, w, s, n):\n",
    "    small = 0 \n",
    "    large = s\n",
    "    while small + 1 < large:\n",
    "        mid =  (small + large) // 2\n",
    "        if can(n, h, w, mid):\n",
    "            large = mid\n",
    "        else:\n",
    "            small = mid\n",
    "    return large\n"
   ]
  },
  {
   "cell_type": "code",
   "execution_count": null,
   "metadata": {},
   "outputs": [],
   "source": [
    "def can(num_of_book, h, w, s):\n",
    "    rows = h // s\n",
    "    coloums = w // s\n",
    "    return True if num_of_book <= rows * coloums else False\n",
    "\n",
    "def binary_search_by_response(h, w, s, n):\n",
    "    small = 0\n",
    "    large = s\n",
    "    while small + 1 < large:\n",
    "        middle = (small + large) // 2\n",
    "        if can(n, h, w, middle):\n",
    "            large = middle\n",
    "        else:\n",
    "            small = middle\n",
    "    return large\n",
    "\n"
   ]
  },
  {
   "cell_type": "code",
   "execution_count": null,
   "metadata": {},
   "outputs": [],
   "source": [
    "def insertion_sort(array):\n",
    "    index = 0 \n",
    "    for i in range(len(array) - 1):\n",
    "        for j in range(i + 1, len(array)):\n",
    "            if array[j] < array[index]:\n",
    "                index = j\n",
    "        array[i], array[index] = array[index], array[i]\n",
    "    return array\n",
    "\n",
    "def can_place_cows(array, mid, n):\n",
    "    count = 1\n",
    "    last_cow = array[0]\n",
    "    for i in range(1, len(array)):\n",
    "        if array[i] - last_cow >= mid:\n",
    "            count += 1\n",
    "            last_cow = array[i]\n",
    "            if count == n:\n",
    "                return True\n",
    "    return False\n",
    "\n",
    "    \n",
    "def binary_search(array, n):\n",
    "    array.intestion_sort(array)\n",
    "    left = 0\n",
    "    right = array[-1] - array[0]\n",
    "    result = 0\n",
    "    while left <= right:\n",
    "        mid = (right + left) // 2\n",
    "        if can_place_cows(array, mid, n):\n",
    "            result = mid\n",
    "            left = mid + 1\n",
    "        else:\n",
    "            right = mid - 1\n",
    "    return right\n",
    "\n"
   ]
  },
  {
   "cell_type": "code",
   "execution_count": null,
   "metadata": {},
   "outputs": [],
   "source": [
    "def alsdf(N):\n",
    "    left = 0 \n",
    "    right = 1e-9\n",
    "    while r - l < 1e-9:\n",
    "        mid = (right - left) // 2\n",
    "        if m ** 3 < N:\n",
    "            l = m\n",
    "        else:\n",
    "            r = m\n",
    "    return r"
   ]
  },
  {
   "cell_type": "code",
   "execution_count": null,
   "metadata": {},
   "outputs": [],
   "source": [
    "def can(N, array):\n",
    "    count = 0\n",
    "    for i in range(N):\n",
    "        count += math.pi *\n",
    "    return count\n",
    "\n",
    "def binary_search(array):\n",
    "    left = 0\n",
    "    right = float('inf')\n",
    "    for _ in range(100):\n",
    "        mid = (right - left) / 2\n",
    "        count = can(len(array), array)\n",
    "        if count >= mid:\n",
    "            r = mid\n",
    "        else:\n"
   ]
  },
  {
   "cell_type": "code",
   "execution_count": null,
   "metadata": {},
   "outputs": [],
   "source": []
  },
  {
   "cell_type": "code",
   "execution_count": null,
   "metadata": {},
   "outputs": [],
   "source": [
    "def insetion_sort(array):\n",
    "    sorted_array = []\n",
    "    for i in range(len(array)):\n",
    "        min_value = array[i]\n",
    "        j = i - 1\n",
    "        while j >= 0 and min_value < array[j]:\n",
    "            array[j + 1] = array[j]\n",
    "            j -= 1\n",
    "        array[j + 1] = min_value\n",
    "\n",
    "def ternanrniy_poisk(array):\n",
    "    sorted_array = insetction_sort(array)"
   ]
  },
  {
   "cell_type": "code",
   "execution_count": null,
   "metadata": {},
   "outputs": [],
   "source": [
    "def insection_sort(array):\n",
    "    for i in range(len(array)):\n",
    "        min_value = array[i]\n",
    "        j = i -1\n",
    "        while j >= 0 and min_value < array[j]:\n",
    "            array[j + 1] \n",
    "            j -= 1\n",
    "        array[j + 1] = min_value\n",
    "    return array\n",
    "\n",
    "def can(array, m):\n",
    "    summa_evklida = 0\n",
    "    for point in array:\n",
    "        summa_evklida += formula\n",
    "    return summa_evklida >= m\n",
    "\n",
    "def ternarniy_poisk(array):\n",
    "    \n",
    "            \n"
   ]
  }
 ],
 "metadata": {
  "kernelspec": {
   "display_name": "base",
   "language": "python",
   "name": "python3"
  },
  "language_info": {
   "codemirror_mode": {
    "name": "ipython",
    "version": 3
   },
   "file_extension": ".py",
   "mimetype": "text/x-python",
   "name": "python",
   "nbconvert_exporter": "python",
   "pygments_lexer": "ipython3",
   "version": "3.11.4"
  }
 },
 "nbformat": 4,
 "nbformat_minor": 2
}
