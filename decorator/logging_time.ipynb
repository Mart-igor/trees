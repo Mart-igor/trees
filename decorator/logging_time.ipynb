{
 "cells": [
  {
   "cell_type": "code",
   "execution_count": null,
   "metadata": {},
   "outputs": [],
   "source": [
    "import time\n",
    "import logging\n",
    "\n",
    "# Настройка логирования\n",
    "logging.basicConfig(level=logging.INFO)\n",
    "\n",
    "class LoggerMixin:\n",
    "    def log(self, message):\n",
    "        logging.info(f\"{self.__class__.__name__}: {message}\")\n",
    "\n",
    "class TimerMixin:\n",
    "    def time_execution(self, func):\n",
    "        def wrapper(*args, **kwargs):\n",
    "            try:\n",
    "                start_time = time.time()\n",
    "                result = func(*args, **kwargs)\n",
    "                end_time = time.time()\n",
    "                self.log(f\"Execution time of {func.__name__}: {end_time - start_time:.4f} seconds\")\n",
    "                return result\n",
    "            except Exception as e:\n",
    "                self.log(f\"Error in {func.__name__}: {e}\")\n",
    "                raise\n",
    "        return wrapper\n",
    "\n",
    "class DataProcessor(LoggerMixin, TimerMixin):\n",
    "    def __init__(self):\n",
    "        self.process_data = self.time_execution(self.process_data)\n",
    "\n",
    "    def process_data(self, data):\n",
    "        self.log(\"Starting data processing\")\n",
    "        # Симуляция обработки данных\n",
    "        time.sleep(2)\n",
    "        if not data:\n",
    "            raise ValueError(\"Data cannot be empty\")\n",
    "        self.log(\"Data processing complete\")\n",
    "        return [d * 2 for d in data]\n",
    "\n",
    "processor = DataProcessor()\n",
    "try:\n",
    "    processed_data = processor.process_data([1, 2, 3, 4, 5])\n",
    "    print(processed_data)\n",
    "except Exception as e:\n",
    "    print(f\"An error occurred: {e}\")\n",
    "\n",
    "Найти еще"
   ]
  },
  {
   "cell_type": "code",
   "execution_count": null,
   "metadata": {},
   "outputs": [],
   "source": [
    "import time\n",
    "import logging\n",
    "\n",
    "# Настройка логирования\n",
    "logging.basicConfig(level=logging.INFO)\n",
    "logger = logging.getLogger(__name__)\n",
    "\n",
    "class LoggerMixin:\n",
    "    def log_info(self, message):\n",
    "        logger.info(f\"{self.__class__.__name__}: {message}\")\n",
    "\n",
    "    def log_error(self, message):\n",
    "        logger.error(f\"{self.__class__.__name__}: {message}\")\n",
    "\n",
    "class TimerMixin:\n",
    "    def time_execution(self, func):\n",
    "        def wrapper(*args, **kwargs):\n",
    "            try:\n",
    "                start_time = time.time()\n",
    "                result = func(*args, **kwargs)\n",
    "                end_time = time.time()\n",
    "                self.log_info(f\"Execution time of {func.__name__}: {end_time - start_time:.4f} seconds\")\n",
    "                return result\n",
    "            except Exception as e:\n",
    "                self.log_error(f\"Error in {func.__name__}: {e}\")\n",
    "                raise\n",
    "        return wrapper\n",
    "\n",
    "class DataProcessor(LoggerMixin, TimerMixin):\n",
    "    def __init__(self):\n",
    "        self.process_data = self.time_execution(self.process_data)\n",
    "\n",
    "    def process_data(self, data):\n",
    "        self.log_info(\"Starting data processing\")\n",
    "        # Симуляция обработки данных\n",
    "        time.sleep(2)\n",
    "        if not data:\n",
    "            raise ValueError(\"Data cannot be empty\")\n",
    "        self.log_info(\"Data processing complete\")\n",
    "        return [d * 2 for d in data]\n",
    "\n",
    "processor = DataProcessor()\n",
    "try:\n",
    "    processed_data = processor.process_data([1, 2, 3, 4, 5])\n",
    "    print(processed_data)\n",
    "except Exception as e:\n",
    "    print(f\"An error occurred: {e}\")\n"
   ]
  },
  {
   "cell_type": "code",
   "execution_count": null,
   "metadata": {},
   "outputs": [],
   "source": [
    "import logging\n",
    "\n",
    "# Настройка логгера для модуля A\n",
    "logger_a = logging.getLogger('module_a')\n",
    "logger_a.setLevel(logging.DEBUG)\n",
    "handler_a = logging.StreamHandler()\n",
    "handler_a.setLevel(logging.DEBUG)\n",
    "formatter = logging.Formatter('%(name)s - %(levelname)s - %(message)s')\n",
    "handler_a.setFormatter(formatter)\n",
    "logger_a.addHandler(handler_a)\n",
    "\n",
    "# Настройка логгера для модуля B\n",
    "logger_b = logging.getLogger('module_b')\n",
    "logger_b.setLevel(logging.WARNING)\n",
    "handler_b = logging.StreamHandler()\n",
    "handler_b.setLevel(logging.WARNING)\n",
    "handler_b.setFormatter(formatter)\n",
    "logger_b.addHandler(handler_b)\n",
    "\n",
    "# Пример использования логгеров\n",
    "def function_in_module_a():\n",
    "    logger_a.debug('This is a debug message from module A')\n",
    "    logger_a.info('This is an info message from module A')\n",
    "    logger_a.warning('This is a warning message from module A')\n",
    "\n",
    "def function_in_module_b():\n",
    "    logger_b.debug('This is a debug message from module B')\n",
    "    logger_b.info('This is an info message from module B')\n",
    "    logger_b.warning('This is a warning message from module B')\n",
    "\n",
    "function_in_module_a()\n",
    "function_in_module_b()\n",
    "\n",
    "Найти еще"
   ]
  },
  {
   "cell_type": "code",
   "execution_count": null,
   "metadata": {},
   "outputs": [],
   "source": []
  },
  {
   "cell_type": "code",
   "execution_count": null,
   "metadata": {},
   "outputs": [],
   "source": []
  },
  {
   "cell_type": "code",
   "execution_count": null,
   "metadata": {},
   "outputs": [],
   "source": []
  },
  {
   "cell_type": "code",
   "execution_count": null,
   "metadata": {},
   "outputs": [],
   "source": []
  },
  {
   "cell_type": "code",
   "execution_count": null,
   "metadata": {},
   "outputs": [],
   "source": []
  },
  {
   "cell_type": "code",
   "execution_count": null,
   "metadata": {},
   "outputs": [],
   "source": []
  },
  {
   "cell_type": "code",
   "execution_count": null,
   "metadata": {},
   "outputs": [],
   "source": []
  },
  {
   "cell_type": "code",
   "execution_count": null,
   "metadata": {},
   "outputs": [],
   "source": []
  },
  {
   "cell_type": "code",
   "execution_count": null,
   "metadata": {},
   "outputs": [],
   "source": []
  },
  {
   "cell_type": "code",
   "execution_count": null,
   "metadata": {},
   "outputs": [],
   "source": []
  },
  {
   "cell_type": "code",
   "execution_count": null,
   "metadata": {},
   "outputs": [],
   "source": []
  },
  {
   "cell_type": "code",
   "execution_count": 2,
   "metadata": {},
   "outputs": [],
   "source": [
    "from typing import List"
   ]
  },
  {
   "cell_type": "code",
   "execution_count": 6,
   "metadata": {},
   "outputs": [],
   "source": [
    "class Solution:\n",
    "    def removeDuplicates(self, nums: List[int]) -> int:\n",
    "        new_list = []\n",
    "        for i in range(len(nums)):\n",
    "            if nums[i] in new_list:\n",
    "                continue\n",
    "            else:\n",
    "                new_list.append(nums[i])\n",
    "        return len(new_list)"
   ]
  },
  {
   "cell_type": "code",
   "execution_count": 7,
   "metadata": {},
   "outputs": [
    {
     "name": "stdout",
     "output_type": "stream",
     "text": [
      "5\n"
     ]
    }
   ],
   "source": [
    "s = Solution()\n",
    "print(s.removeDuplicates([0,0,1,1,1,2,2,3,3,4]\n",
    "))"
   ]
  },
  {
   "cell_type": "code",
   "execution_count": null,
   "metadata": {},
   "outputs": [],
   "source": [
    "class Solution:\n",
    "    def max_profit(self, prices: List[int]) -> int:\n",
    "        a = []\n",
    "        for i in range(prices):\n",
    "            a.append(min(prices[i:]))\n",
    "            "
   ]
  }
 ],
 "metadata": {
  "kernelspec": {
   "display_name": "firstvenv",
   "language": "python",
   "name": "python3"
  },
  "language_info": {
   "codemirror_mode": {
    "name": "ipython",
    "version": 3
   },
   "file_extension": ".py",
   "mimetype": "text/x-python",
   "name": "python",
   "nbconvert_exporter": "python",
   "pygments_lexer": "ipython3",
   "version": "3.9.1"
  }
 },
 "nbformat": 4,
 "nbformat_minor": 2
}
