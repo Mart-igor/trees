{
 "cells": [
  {
   "cell_type": "code",
   "execution_count": 1,
   "metadata": {},
   "outputs": [
    {
     "name": "stdout",
     "output_type": "stream",
     "text": [
      "[['A', 'A', 0, 0, 0], ['A', 'A', 0, 0, 0], [0, 0, 'B', 0, 0], [0, 0, 0, 'C', 'C']]\n"
     ]
    }
   ],
   "source": [
    "# def count_connected_components(grid):\n",
    "#     if not grid:\n",
    "#         return 0\n",
    "    \n",
    "#     n = len(grid)\n",
    "#     m = len(grid[0])\n",
    "#     visited = [[False for _ in range(m)] for _ in range(n)]\n",
    "#     count = 0\n",
    "    \n",
    "#     # Направления для обхода соседних ячеек (вверх, вниз, влево, вправо)\n",
    "#     directions = [(-1, 0), (1, 0), (0, -1), (0, 1)]\n",
    "    \n",
    "#     def dfs(i, j):\n",
    "#         if i < 0 or i >= n or j < 0 or j >= m or grid[i][j] == 0 or visited[i][j]:\n",
    "#             return\n",
    "#         visited[i][j] = True\n",
    "#         for direction in directions:\n",
    "#             dfs(i + direction[0], j + direction[1])\n",
    "    \n",
    "#     for i in range(n):\n",
    "#         for j in range(m):\n",
    "#             if grid[i][j] == 1 and not visited[i][j]:\n",
    "#                 dfs(i, j)\n",
    "#                 count += 1\n",
    "    \n",
    "#     return count\n",
    "\n",
    "def mark_connected_components(grid):\n",
    "    if not grid:\n",
    "        return grid\n",
    "    \n",
    "    n = len(grid)\n",
    "    m = len(grid[0])\n",
    "    visited = [[False for _ in range(m)] for _ in range(n)]\n",
    "    directions = [(-1, 0), (1, 0), (0, -1), (0, 1)]\n",
    "    current_char = 'A'  # Начинаем с первой буквы алфавита\n",
    "    \n",
    "    def dfs(i, j, char):\n",
    "        if i < 0 or i >= n or j < 0 or j >= m or grid[i][j] != 1 or visited[i][j]:\n",
    "            return\n",
    "        visited[i][j] = True\n",
    "        grid[i][j] = char  # Помечаем ячейку текущей буквой\n",
    "        for direction in directions:\n",
    "            dfs(i + direction[0], j + direction[1], char)\n",
    "    \n",
    "    for i in range(n):\n",
    "        for j in range(m):\n",
    "            if grid[i][j] == 1 and not visited[i][j]:\n",
    "                dfs(i, j, current_char)\n",
    "                current_char = chr(ord(current_char) + 1)  # Переходим к следующей букве\n",
    "    \n",
    "    return grid\n",
    "# Пример использования\n",
    "grid = [\n",
    "    [1, 1, 0, 0, 0],\n",
    "    [1, 1, 0, 0, 0],\n",
    "    [0, 0, 1, 0, 0],\n",
    "    [0, 0, 0, 1, 1]\n",
    "]\n",
    "\n",
    "print(mark_connected_components(grid))  # Вывод: 3"
   ]
  },
  {
   "cell_type": "code",
   "execution_count": 4,
   "metadata": {},
   "outputs": [
    {
     "name": "stdout",
     "output_type": "stream",
     "text": [
      "(3, [['A', 'A', 0, 0, 0], ['A', 'A', 0, 0, 0], [0, 0, 'B', 0, 0], [0, 0, 0, 'C', 'C']])\n"
     ]
    }
   ],
   "source": [
    "def connected_components(graph):\n",
    "    n, m = len(graph), len(graph[0])\n",
    "    visited = [ [False for _ in range(m)] for _ in range(n)]\n",
    "    count = 0\n",
    "    connected_points = [(-1, 0), (0, 1), (1, 0), (0, -1)]\n",
    "    current_var = 'A'\n",
    "\n",
    "    def dfs(i, j, current_var):\n",
    "        if i < 0 or i >= n or j < 0 or j >= m or graph[i][j] == 0 or visited[i][j]:\n",
    "            return \n",
    "        \n",
    "        visited[i][j] = True\n",
    "        grid[i][j] = current_var\n",
    "        for connected_point in connected_points:\n",
    "            dfs(i + connected_point[0], j + connected_point[1], current_var)\n",
    "\n",
    "    for i in range(n):\n",
    "        for j in range(m):\n",
    "            if not visited[i][j] and graph[i][j] == 1:\n",
    "                dfs(i, j, current_var)\n",
    "                count += 1\n",
    "                current_var = chr(ord(current_var) + 1)\n",
    "    return count, graph\n",
    "\n",
    "grid = [\n",
    "    [1, 1, 0, 0, 0],\n",
    "    [1, 1, 0, 0, 0],\n",
    "    [0, 0, 1, 0, 0],\n",
    "    [0, 0, 0, 1, 1]\n",
    "]\n",
    "\n",
    "print(connected_components(grid))  # Вывод: 3"
   ]
  },
  {
   "cell_type": "code",
   "execution_count": null,
   "metadata": {},
   "outputs": [],
   "source": [
    "def count_connected_components(grid):\n",
    "    if not grid:\n",
    "        return 0\n",
    "    \n",
    "    n = len(grid)\n",
    "    m = len(grid[0])\n",
    "    visited = [[False for _ in range(m)] for _ in range(n)]\n",
    "    count = 0\n",
    "    directions = [(-1, 0), (1, 0), (0, -1), (0, 1)]\n",
    "    \n",
    "    for i in range(n):\n",
    "        for j in range(m):\n",
    "            if grid[i][j] == 1 and not visited[i][j]:\n",
    "                stack = [(i, j)]\n",
    "                while stack:\n",
    "                    x, y = stack.pop()\n",
    "                    if x < 0 or x >= n or y < 0 or y >= m or grid[x][y] == 0 or visited[x][y]:\n",
    "                        continue\n",
    "                    visited[x][y] = True\n",
    "                    for dx, dy in directions:\n",
    "                        stack.append((x + dx, y + dy))\n",
    "                count += 1\n",
    "    \n",
    "    return count"
   ]
  },
  {
   "cell_type": "code",
   "execution_count": null,
   "metadata": {},
   "outputs": [],
   "source": [
    "def has_cycle(graph):\n",
    "    visited = []\n",
    "    rec_visited = []\n",
    "\n",
    "    def dfs(v):\n",
    "        visited.append(v)\n",
    "        rec_visited.append(v)\n",
    "        for vv in graph[v]:\n",
    "            if vv not in visited:\n",
    "                if dfs(vv):\n",
    "                    return True\n",
    "            elif vv in rec_visited:\n",
    "                return True\n",
    "\n",
    "        rec_stack = []\n",
    "        return False\n",
    "\n",
    "\n",
    "    for v in graph:\n",
    "        if v not in visited:\n",
    "            if dfs(v):\n",
    "                return True\n",
    "\n",
    "    return False"
   ]
  },
  {
   "cell_type": "code",
   "execution_count": 11,
   "metadata": {},
   "outputs": [
    {
     "name": "stdout",
     "output_type": "stream",
     "text": [
      "Найденный цикл (граф с циклом): ['B', 'C', 'E', 'B']\n",
      "Найденный цикл (граф без цикла): None\n"
     ]
    }
   ],
   "source": [
    "def recovery_cycle(graph):\n",
    "    visited = []\n",
    "    parent = {}\n",
    "    cycle = []\n",
    "\n",
    "    def dfs(v):\n",
    "        nonlocal cycle\n",
    "        visited.append(v)\n",
    "        for vv in graph[v]:\n",
    "            if vv not in visited:\n",
    "                parent[vv] = v\n",
    "                if dfs(vv):\n",
    "                    return True\n",
    "            elif vv in visited and vv != parent.get(v):  # Исправлено на круглые скобки\n",
    "                cycle.append(vv)\n",
    "                x = v\n",
    "                while x != vv:\n",
    "                    cycle.append(x)\n",
    "                    x = parent[x]\n",
    "                cycle.append(vv)\n",
    "                cycle.reverse()\n",
    "                return True\n",
    "        return False\n",
    "\n",
    "    for v in graph:\n",
    "        if v not in visited:\n",
    "            if dfs(v):\n",
    "                break\n",
    "    return cycle if cycle else None\n",
    "\n",
    "\n",
    "# Пример 1: Граф с циклом\n",
    "graph_with_cycle = {\n",
    "    'A': ['B'],\n",
    "    'B': ['C'],\n",
    "    'C': ['E'],\n",
    "    'D': ['A'],\n",
    "    'E': ['B']\n",
    "}\n",
    "\n",
    "# Пример 2: Граф без цикла\n",
    "graph_without_cycle = {\n",
    "    'A': ['B'],\n",
    "    'B': ['C'],\n",
    "    'C': ['D'],\n",
    "    'D': []\n",
    "}\n",
    "\n",
    "# Запуск функции на графе с циклом\n",
    "cycle_found = recovery_cycle(graph_with_cycle)\n",
    "print(\"Найденный цикл (граф с циклом):\", cycle_found)\n",
    "\n",
    "# Запуск функции на графе без цикла\n",
    "cycle_found_no_cycle = recovery_cycle(graph_without_cycle)\n",
    "print(\"Найденный цикл (граф без цикла):\", cycle_found_no_cycle)\n"
   ]
  },
  {
   "cell_type": "code",
   "execution_count": null,
   "metadata": {},
   "outputs": [],
   "source": [
    "def search_cycle_in_orientirovanniy_graph(graph):\n",
    "    visited = {}\n",
    "\n",
    "    def dfs(v, parent):\n",
    "        for vv in graph[v]:\n",
    "            if vv not in visited:\n",
    "                if dfs(vv, v):\n",
    "                    return True\n",
    "            \n",
    "            elif vv != parent:\n",
    "                return True\n",
    "        return False\n",
    "    \n",
    "    for v in graph:\n",
    "        if v not in visited:\n",
    "            if dfs(v, None):\n",
    "                return True\n",
    "            \n",
    "    return False"
   ]
  },
  {
   "cell_type": "code",
   "execution_count": null,
   "metadata": {},
   "outputs": [],
   "source": [
    "def recover_orientirovanity_cycle_dfs(v, parent):\n",
    "    visited.add(v)\n",
    "    path.append(v)\n",
    "\n",
    "    for vv in graph[v]:\n",
    "        if vv not in visited:\n",
    "            if recover_orientirovanity_cycle_dfs(vv, v):\n",
    "                return True\n",
    "        \n",
    "        elif vv != parent:\n",
    "            start_path = path.index(vv)\n",
    "            recovery_path = path[start_path:] + [vv]\n",
    "            return recovery_path\n",
    "\n",
    "\n",
    "graph = [asd]\n",
    "visited = {}\n",
    "path = []\n",
    "\n",
    "for v in graph:\n",
    "    if v not in visited:\n",
    "        if recover_orientirovanity_cycle_dfs(v, None):\n",
    "            break\n",
    "\n"
   ]
  },
  {
   "cell_type": "code",
   "execution_count": null,
   "metadata": {},
   "outputs": [],
   "source": [
    "def dvuchsoronniy_graph(graph):\n",
    "    color = {}\n",
    "\n",
    "    def dfs(node, c):\n",
    "        color[node] = c\n",
    "        for vv in graph[node]:\n",
    "            if v not in color:\n",
    "                if not dfs(node, 1 - c):\n",
    "                    return False\n",
    "                elif color[node] == color[node]:\n",
    "                    return False\n",
    "        return True\n",
    "    \n",
    "    for v in graph:\n",
    "        if v not in color:\n",
    "            if not dfs(v, 0):\n",
    "                return False\n",
    "            \n",
    "    return True\n",
    "\n"
   ]
  },
  {
   "cell_type": "code",
   "execution_count": null,
   "metadata": {},
   "outputs": [],
   "source": [
    "def topologicheskay_sortirovka(graph):\n",
    "    vivsite = {}\n",
    "    stack = []\n",
    "    def dfs(v):\n",
    "        visited.add(v)\n",
    "        for vv in graph[v]:\n",
    "            if vv not in visited:\n",
    "                dfs(vv)\n",
    "        stack.append(v)\n",
    "    \n",
    "    for v in graph:\n",
    "        if v not in visited:\n",
    "            dfs(v)\n",
    "\n",
    "    return stack[::1]"
   ]
  },
  {
   "cell_type": "markdown",
   "metadata": {},
   "source": [
    "### trenning"
   ]
  },
  {
   "cell_type": "code",
   "execution_count": null,
   "metadata": {},
   "outputs": [],
   "source": [
    "def create_adjacency_graph(num, enges):\n",
    "\n",
    "    adjac_list = [[] for _ in range(num)]\n",
    "\n",
    "    for edge in enges:\n",
    "        v, u = edge\n",
    "        adjac_list[v].append(u)\n",
    "    \n",
    "    return adjac_list\n",
    "\n",
    "num = 6\n",
    "edge = [[1,2], ...]\n",
    "\n",
    "listss = create_adjacency_graph(num, edge)\n",
    "\n",
    "for i in range(num):\n",
    "    print()"
   ]
  },
  {
   "cell_type": "code",
   "execution_count": null,
   "metadata": {},
   "outputs": [],
   "source": [
    "for edge in edges:\n",
    "    u, v = edge\n",
    "    adjas_list[u].append(v)\n",
    "    adjas_list[v].append(u)\n",
    "    return adjas_list"
   ]
  },
  {
   "cell_type": "code",
   "execution_count": 3,
   "metadata": {},
   "outputs": [
    {
     "name": "stdout",
     "output_type": "stream",
     "text": [
      "[0, 1, 1, 0, 0, 0]\n",
      "[0, 0, 1, 1, 0, 0]\n",
      "[0, 0, 0, 0, 0, 0]\n",
      "[0, 0, 0, 0, 1, 0]\n",
      "[0, 0, 0, 0, 0, 1]\n",
      "[0, 0, 0, 0, 0, 0]\n"
     ]
    }
   ],
   "source": [
    "def create_matrix(num, edges):\n",
    "    lis = [[0] * num for _ in range(num)]\n",
    "\n",
    "    for edge in edges:\n",
    "        u, v = edge\n",
    "\n",
    "        lis[u][v] = 1\n",
    "    return lis\n",
    "    \n",
    "num = 6\n",
    "undirected_edges = [[0, 1], [0, 2], [1, 2], [1, 3], [3, 4], [4, 5]]\n",
    "a = create_matrix(6, undirected_edges)\n",
    "for row in a:\n",
    "    print(row)"
   ]
  },
  {
   "cell_type": "code",
   "execution_count": null,
   "metadata": {},
   "outputs": [],
   "source": [
    "def dfs(graph, node, visited):\n",
    "    if node not in visited:\n",
    "        print(node)\n",
    "        for v in graph[node]:\n",
    "            dfs(graph, v, visited)\n",
    "\n",
    "visited = set()\n"
   ]
  },
  {
   "cell_type": "code",
   "execution_count": null,
   "metadata": {},
   "outputs": [],
   "source": [
    "def search(graph, visited):\n",
    "    visited = {}\n",
    "    count = 1\n",
    "    def dfs(v):\n",
    "        for vv in graph[v]:\n",
    "            if \n",
    "\n",
    "\n",
    "    for v in graph:\n",
    "        if v not in visited:\n",
    "            dfs(v)"
   ]
  },
  {
   "cell_type": "code",
   "execution_count": 3,
   "metadata": {},
   "outputs": [
    {
     "data": {
      "text/plain": [
       "<generator object <genexpr> at 0x00000191FC730E10>"
      ]
     },
     "execution_count": 3,
     "metadata": {},
     "output_type": "execute_result"
    }
   ],
   "source": [
    "a = (i for i in range(10))\n",
    "a"
   ]
  },
  {
   "cell_type": "code",
   "execution_count": 37,
   "metadata": {},
   "outputs": [],
   "source": [
    "def binary(nums, target = 0):\n",
    "    nums = ''.join(nums)\n",
    "    l = 0\n",
    "    r = len(nums) - 1\n",
    "    while l <= r:\n",
    "        m = (l + r) // 2\n",
    "        if target >= nums[m]:\n",
    "            l = m + 1\n",
    "        else: \n",
    "            r = m - 1\n",
    "    return nums[l:]"
   ]
  },
  {
   "cell_type": "code",
   "execution_count": 39,
   "metadata": {},
   "outputs": [
    {
     "ename": "TypeError",
     "evalue": "sequence item 0: expected str instance, list found",
     "output_type": "error",
     "traceback": [
      "\u001b[1;31m---------------------------------------------------------------------------\u001b[0m",
      "\u001b[1;31mTypeError\u001b[0m                                 Traceback (most recent call last)",
      "Cell \u001b[1;32mIn[39], line 1\u001b[0m\n\u001b[1;32m----> 1\u001b[0m \u001b[38;5;28mprint\u001b[39m(binary(nums \u001b[38;5;241m=\u001b[39m [[\u001b[38;5;241m4\u001b[39m,\u001b[38;5;241m3\u001b[39m,\u001b[38;5;241m2\u001b[39m,\u001b[38;5;241m-\u001b[39m\u001b[38;5;241m1\u001b[39m],[\u001b[38;5;241m3\u001b[39m,\u001b[38;5;241m2\u001b[39m,\u001b[38;5;241m1\u001b[39m,\u001b[38;5;241m-\u001b[39m\u001b[38;5;241m1\u001b[39m],[\u001b[38;5;241m1\u001b[39m,\u001b[38;5;241m1\u001b[39m,\u001b[38;5;241m-\u001b[39m\u001b[38;5;241m1\u001b[39m,\u001b[38;5;241m-\u001b[39m\u001b[38;5;241m2\u001b[39m],[\u001b[38;5;241m-\u001b[39m\u001b[38;5;241m1\u001b[39m,\u001b[38;5;241m-\u001b[39m\u001b[38;5;241m1\u001b[39m,\u001b[38;5;241m-\u001b[39m\u001b[38;5;241m2\u001b[39m,\u001b[38;5;241m-\u001b[39m\u001b[38;5;241m3\u001b[39m]]\n\u001b[0;32m      2\u001b[0m ))\n",
      "Cell \u001b[1;32mIn[37], line 2\u001b[0m, in \u001b[0;36mbinary\u001b[1;34m(nums, target)\u001b[0m\n\u001b[0;32m      1\u001b[0m \u001b[38;5;28;01mdef\u001b[39;00m \u001b[38;5;21mbinary\u001b[39m(nums, target \u001b[38;5;241m=\u001b[39m \u001b[38;5;241m0\u001b[39m):\n\u001b[1;32m----> 2\u001b[0m     nums \u001b[38;5;241m=\u001b[39m \u001b[38;5;124m'\u001b[39m\u001b[38;5;124m'\u001b[39m\u001b[38;5;241m.\u001b[39mjoin(nums)\n\u001b[0;32m      3\u001b[0m     l \u001b[38;5;241m=\u001b[39m \u001b[38;5;241m0\u001b[39m\n\u001b[0;32m      4\u001b[0m     r \u001b[38;5;241m=\u001b[39m \u001b[38;5;28mlen\u001b[39m(nums) \u001b[38;5;241m-\u001b[39m \u001b[38;5;241m1\u001b[39m\n",
      "\u001b[1;31mTypeError\u001b[0m: sequence item 0: expected str instance, list found"
     ]
    }
   ],
   "source": [
    "print(binary(nums = [[4,3,2,-1],[3,2,1,-1],[1,1,-1,-2],[-1,-1,-2,-3]]\n",
    "))"
   ]
  },
  {
   "cell_type": "code",
   "execution_count": null,
   "metadata": {},
   "outputs": [],
   "source": []
  },
  {
   "cell_type": "code",
   "execution_count": null,
   "metadata": {},
   "outputs": [],
   "source": []
  }
 ],
 "metadata": {
  "kernelspec": {
   "display_name": "base",
   "language": "python",
   "name": "python3"
  },
  "language_info": {
   "codemirror_mode": {
    "name": "ipython",
    "version": 3
   },
   "file_extension": ".py",
   "mimetype": "text/x-python",
   "name": "python",
   "nbconvert_exporter": "python",
   "pygments_lexer": "ipython3",
   "version": "3.11.4"
  }
 },
 "nbformat": 4,
 "nbformat_minor": 2
}
