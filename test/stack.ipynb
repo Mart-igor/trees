{
 "cells": [
  {
   "cell_type": "markdown",
   "metadata": {},
   "source": [
    "# проверка скобок"
   ]
  },
  {
   "cell_type": "code",
   "execution_count": 2,
   "metadata": {},
   "outputs": [],
   "source": [
    "def brackets(string):\n",
    "    stack = []\n",
    "    dictionary = {')': '(', ']': '[', '}': '{' }\n",
    "\n",
    "    for char in string: \n",
    "        if char in dictionary.values():\n",
    "            stack.append(char)\n",
    "        elif char in dictionary.keys():\n",
    "            if stack == [] or stack.pop() == dictionary[char]:\n",
    "                stack.pop()\n",
    "            else:\n",
    "                return False\n",
    "    return True\n",
    "\n"
   ]
  },
  {
   "cell_type": "markdown",
   "metadata": {},
   "source": [
    "# вычисления"
   ]
  },
  {
   "cell_type": "code",
   "execution_count": null,
   "metadata": {},
   "outputs": [],
   "source": [
    "def schet(string):\n",
    "    stack = []\n",
    "    \n",
    "    for i in string:\n",
    "        if i.isdigit():\n",
    "            stack.append(i)\n",
    "        else:\n",
    "            right = stack.pop()\n",
    "            left = stack.pop_()\n",
    "            if i == '+':\n",
    "                stack.appned(right + left)\n",
    "            elif\n",
    "    return stack[0]\n",
    "\n",
    "\n",
    "# В обратную сторону\n",
    "\n",
    "def obratniy_chet(expresion):\n",
    "    stack = []\n",
    "    precedence = {'+': 1, '-': 1, '*': 2, '/': 2}\n",
    "    output = []\n",
    "\n",
    "    for char in expresion:\n",
    "        if char.isdigit():\n",
    "            output.append(char)\n",
    "        elif char == '(':\n",
    "            stack.append[]\n",
    "        elif char == ')':\n",
    "            while stack[-1] != ')':\n",
    "                output.append\n",
    "        else:\n",
    "            while stack != '(' and precedence[stack[-1]] >= precedence[char]:\n",
    "                output.append(char)\n",
    "\n",
    "            stack.append(char)\n",
    "    while stack:\n",
    "        output.append(stack.pop())\n",
    "\n",
    "    return output"
   ]
  },
  {
   "cell_type": "markdown",
   "metadata": {},
   "source": [
    "# поиск большего элемента справа"
   ]
  },
  {
   "cell_type": "code",
   "execution_count": null,
   "metadata": {},
   "outputs": [],
   "source": [
    "def search(arr):\n",
    "    result = [-1] * len(arr)\n",
    "    stack = []\n",
    "\n",
    "    for i in range(1, len(arr)):\n",
    "        while stack and arr[stack[-1]] < arr[i]:\n",
    "            index = stack.pop()\n",
    "            result[index] = arr[i]\n",
    "\n",
    "        \n",
    "        stack.append(i)\n",
    "\n",
    "arr = []\n",
    "print(search(arr))"
   ]
  },
  {
   "cell_type": "markdown",
   "metadata": {},
   "source": [
    "# стек с суммой и минимумом"
   ]
  },
  {
   "cell_type": "code",
   "execution_count": null,
   "metadata": {},
   "outputs": [],
   "source": [
    "class StackWithSumAndMin:\n",
    "    def __init__(self):\n",
    "        self.stack = []\n",
    "        self.min_stack = []\n",
    "        self.current_sum = 0\n",
    "\n",
    "    def push(self, value):\n",
    "        self.stack.append(value)\n",
    "        self.current_sum += value\n",
    "\n",
    "        if not self.min_stack or value <= self.min_stack[-1]:\n",
    "            self.min_stack.append(value)\n",
    "\n",
    "    def pop(self):\n",
    "        if not self.stack:\n",
    "            raise IndexError(\"pop from empty stack\")\n",
    "\n",
    "        value = self.stack.pop()\n",
    "        self.current_sum -= value\n",
    "\n",
    "        if value == self.min_stack[-1]:\n",
    "            self.min_stack.pop()\n",
    "\n",
    "        return value\n",
    "\n",
    "    def get_sum(self):\n",
    "        return self.current_sum\n",
    "\n",
    "    def get_min(self):\n",
    "        if not self.min_stack:\n",
    "            raise IndexError(\"min from empty stack\")\n",
    "        return self.min_stack[-1]\n",
    "\n",
    "# Пример использования\n",
    "stack = StackWithSumAndMin()\n",
    "stack.push(3)\n",
    "stack.push(5)\n",
    "stack.push(2)\n",
    "print(stack.get_sum())  # Вывод: 10\n",
    "print(stack.get_min())  # Вывод: 2\n",
    "stack.pop()\n",
    "print(stack.get_sum())  # Вывод: 8\n",
    "print(stack.get_min())  # Вывод: 3\n"
   ]
  },
  {
   "cell_type": "markdown",
   "metadata": {},
   "source": [
    "# стек вызовов"
   ]
  },
  {
   "cell_type": "code",
   "execution_count": 1,
   "metadata": {},
   "outputs": [
    {
     "name": "stdout",
     "output_type": "stream",
     "text": [
      "     \n",
      " ##  \n",
      " #   \n",
      "     \n"
     ]
    }
   ],
   "source": [
    "def flood_fill(image, start_row, start_col, new_char):\n",
    "    rows, cols = len(image), len(image[0])\n",
    "    start_char = image[start_row][start_col]\n",
    "    \n",
    "    if start_char == new_char:\n",
    "        return\n",
    "    \n",
    "    stack = [(start_row, start_col)]\n",
    "    \n",
    "    while stack:\n",
    "        row, col = stack.pop()\n",
    "        \n",
    "        if image[row][col] != start_char:\n",
    "            continue\n",
    "        \n",
    "        image[row][col] = new_char\n",
    "        \n",
    "        # Добавляем соседние позиции в стек\n",
    "        if row > 0:\n",
    "            stack.append((row - 1, col))\n",
    "        if row < rows - 1:\n",
    "            stack.append((row + 1, col))\n",
    "        if col > 0:\n",
    "            stack.append((row, col - 1))\n",
    "        if col < cols - 1:\n",
    "            stack.append((row, col + 1))\n",
    "\n",
    "# Пример изображения\n",
    "image = [\n",
    "    [' ', ' ', ' ', ' ', ' '],\n",
    "    [' ', '#', '#', ' ', ' '],\n",
    "    [' ', '#', ' ', ' ', ' '],\n",
    "    [' ', ' ', ' ', ' ', ' ']\n",
    "]\n",
    "\n",
    "# Запускаем заливку\n",
    "flood_fill(image, 1, 1, '#')\n",
    "\n",
    "# Выводим результат\n",
    "for row in image:\n",
    "    print(''.join(row))\n"
   ]
  },
  {
   "cell_type": "markdown",
   "metadata": {},
   "source": [
    "def flood_fill_recursive(image, row, col, new_char, start_char=None):\n",
    "    if start_char is None:\n",
    "        start_char = image[row][col]\n",
    "    \n",
    "    # Проверяем границы и совпадение символа\n",
    "    if (row < 0 or row >= len(image) or\n",
    "        col < 0 or col >= len(image[0]) or\n",
    "        image[row][col] != start_char or\n",
    "        image[row][col] == new_char):\n",
    "        return\n",
    "    \n",
    "    # Закрашиваем текущую точку\n",
    "    image[row][col] = new_char\n",
    "    \n",
    "    # Рекурсивно обрабатываем соседние точки\n",
    "    flood_fill_recursive(image, row - 1, col, new_char, start_char)  # вверх\n",
    "    flood_fill_recursive(image, row + 1, col, new_char, start_char)  # вниз\n",
    "    flood_fill_recursive(image, row, col - 1, new_char, start_char)  # влево\n",
    "    flood_fill_recursive(image, row, col + 1, new_char, start_char)  # вправо\n",
    "\n",
    "# Пример изображения\n",
    "image = [\n",
    "    [' ', ' ', ' ', ' ', ' '],\n",
    "    [' ', '#', '#', ' ', ' '],\n",
    "    [' ', '#', ' ', ' ', ' '],\n",
    "    [' ', ' ', ' ', ' ', ' ']\n",
    "]\n",
    "\n",
    "# Запускаем заливку\n",
    "flood_fill_recursive(image, 1, 1, '#')\n",
    "\n",
    "# Выводим результат\n",
    "for row in image:\n",
    "    print(''.join(row))\n",
    "\n",
    "Найти еще"
   ]
  }
 ],
 "metadata": {
  "kernelspec": {
   "display_name": "base",
   "language": "python",
   "name": "python3"
  },
  "language_info": {
   "codemirror_mode": {
    "name": "ipython",
    "version": 3
   },
   "file_extension": ".py",
   "mimetype": "text/x-python",
   "name": "python",
   "nbconvert_exporter": "python",
   "pygments_lexer": "ipython3",
   "version": "3.11.4"
  }
 },
 "nbformat": 4,
 "nbformat_minor": 2
}
