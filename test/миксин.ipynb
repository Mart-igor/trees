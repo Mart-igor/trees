{
 "cells": [
  {
   "cell_type": "code",
   "execution_count": 6,
   "metadata": {},
   "outputs": [
    {
     "name": "stderr",
     "output_type": "stream",
     "text": [
      "INFO:root:DataProcessor: Starting data processing\n",
      "INFO:root:DataProcessor: Data processing complete\n",
      "INFO:root:DataProcessor: Execution time of process_data: 2.0015 seconds\n"
     ]
    },
    {
     "name": "stdout",
     "output_type": "stream",
     "text": [
      "[2, 4, 6, 8, 10]\n"
     ]
    }
   ],
   "source": [
    "import time\n",
    "import logging\n",
    "\n",
    "# Настройка логирования\n",
    "logging.basicConfig(level=logging.INFO)\n",
    "\n",
    "class LoggerMixin:\n",
    "    def log(self, message):\n",
    "        logging.info(f\"{self.__class__.__name__}: {message}\")\n",
    "\n",
    "class TimerMixin:\n",
    "    def time_execution(self, func):\n",
    "        def wrapper(*args, **kwargs):\n",
    "            start_time = time.time()\n",
    "            result = func(*args, **kwargs)\n",
    "            end_time = time.time()\n",
    "            self.log(f\"Execution time of {func.__name__}: {end_time - start_time:.4f} seconds\")\n",
    "            return result\n",
    "        return wrapper\n",
    "\n",
    "class DataProcessor(LoggerMixin, TimerMixin):\n",
    "    def process_data(self, data):\n",
    "        self.log(\"Starting data processing\")\n",
    "        # Симуляция обработки данных\n",
    "        time.sleep(2)\n",
    "        self.log(\"Data processing complete\")\n",
    "        return [d * 2 for d in data]\n",
    "\n",
    "    # Применяем декоратор в конструкторе\n",
    "    def __init__(self):\n",
    "        self.process_data = self.time_execution(self.process_data)\n",
    "\n",
    "processor = DataProcessor()\n",
    "processed_data = processor.process_data([1, 2, 3, 4, 5])\n",
    "print(processed_data)\n"
   ]
  },
  {
   "cell_type": "markdown",
   "metadata": {},
   "source": [
    "Конечно! Ошибка возникала потому, что `time_execution` использовался как статический метод, а не как метод экземпляра. Вот что я сделал для исправления:\n",
    "\n",
    "1. **Метод экземпляра:** \n",
    "   - Декоратор `time_execution` должен быть методом экземпляра, чтобы иметь доступ к `self` и использовать методы класса, такие как `log`.\n",
    "\n",
    "2. **Инициализация в конструкторе:**\n",
    "   - Вместо использования декоратора непосредственно над методом `process_data`, я применил его в конструкторе класса `DataProcessor`. Это позволяет обернуть метод `process_data` в декоратор после создания экземпляра класса.\n",
    "\n",
    "Таким образом, мы обеспечиваем, что `time_execution` может использовать методы и атрибуты экземпляра, такие как `log`, для выполнения своей функции."
   ]
  },
  {
   "cell_type": "code",
   "execution_count": null,
   "metadata": {},
   "outputs": [],
   "source": [
    "class TimerMixin:\n",
    "    def time_execution(self, func):\n",
    "        def wrapper(*args, **kwargs):\n",
    "            try:\n",
    "                start_time = time.time()\n",
    "                result = func(*args, **kwargs)\n",
    "                end_time = time.time()\n",
    "                self.log(f\"Execution time of {func.__name__}: {end_time - start_time:.4f} seconds\")\n",
    "                return result\n",
    "            except Exception as e:\n",
    "                self.log(f\"Error in {func.__name__}: {e}\")\n",
    "                raise\n",
    "        return wrapper"
   ]
  },
  {
   "cell_type": "code",
   "execution_count": null,
   "metadata": {},
   "outputs": [],
   "source": [
    "import time\n",
    "import logging\n",
    "\n",
    "# Настройка логирования\n",
    "logging.basicConfig(level=logging.INFO)\n",
    "logger = logging.getLogger(__name__)\n",
    "\n",
    "class LoggerMixin:\n",
    "    def log_info(self, message):\n",
    "        logger.info(f\"{self.__class__.__name__}: {message}\")\n",
    "\n",
    "    def log_error(self, message):\n",
    "        logger.error(f\"{self.__class__.__name__}: {message}\")\n",
    "\n",
    "class TimerMixin:\n",
    "    def time_execution(self, func):\n",
    "        def wrapper(*args, **kwargs):\n",
    "            try:\n",
    "                start_time = time.time()\n",
    "                result = func(*args, **kwargs)\n",
    "                end_time = time.time()\n",
    "                self.log_info(f\"Execution time of {func.__name__}: {end_time - start_time:.4f} seconds\")\n",
    "                return result\n",
    "            except Exception as e:\n",
    "                self.log_error(f\"Error in {func.__name__}: {e}\")\n",
    "                raise\n",
    "        return wrapper\n",
    "\n",
    "class DataProcessor(LoggerMixin, TimerMixin):\n",
    "    def __init__(self):\n",
    "        self.process_data = self.time_execution(self.process_data)\n",
    "\n",
    "    def process_data(self, data):\n",
    "        self.log_info(\"Starting data processing\")\n",
    "        # Симуляция обработки данных\n",
    "        time.sleep(2)\n",
    "        if not data:\n",
    "            raise ValueError(\"Data cannot be empty\")\n",
    "        self.log_info(\"Data processing complete\")\n",
    "        return [d * 2 for d in data]\n",
    "\n",
    "processor = DataProcessor()\n",
    "try:\n",
    "    processed_data = processor.process_data([1, 2, 3, 4, 5])\n",
    "    print(processed_data)\n",
    "except Exception as e:\n",
    "    print(f\"An error occurred: {e}\")\n"
   ]
  }
 ],
 "metadata": {
  "kernelspec": {
   "display_name": "base",
   "language": "python",
   "name": "python3"
  },
  "language_info": {
   "codemirror_mode": {
    "name": "ipython",
    "version": 3
   },
   "file_extension": ".py",
   "mimetype": "text/x-python",
   "name": "python",
   "nbconvert_exporter": "python",
   "pygments_lexer": "ipython3",
   "version": "3.11.4"
  }
 },
 "nbformat": 4,
 "nbformat_minor": 2
}
