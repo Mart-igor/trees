{
 "cells": [
  {
   "cell_type": "markdown",
   "metadata": {},
   "source": [
    "# односвязный список"
   ]
  },
  {
   "cell_type": "code",
   "execution_count": null,
   "metadata": {},
   "outputs": [],
   "source": [
    "class Node: \n",
    "    def __init__(self, data):\n",
    "        self.data = data\n",
    "        self.next = None\n",
    "\n",
    "class SinglyLinkedList:\n",
    "    def __init__(self):\n",
    "        self.head = None\n",
    "\n",
    "    def append(self, data):\n",
    "        new_node = Node(data)\n",
    "        if not self.head:\n",
    "            self.head = new_node\n",
    "            return\n",
    "        last_node = self.head\n",
    "        while last_node.next:\n",
    "            last_node = last_node.next\n",
    "        last_node.next = new_node\n",
    "\n",
    "    def display(self):\n",
    "        current_node = self.head\n",
    "        while current_node:\n",
    "            print(current_node.data, end=' -> ')\n",
    "            current_node = current_node.next\n",
    "        print('None')\n",
    "\n",
    "    def prepend(self, data):\n",
    "        new_node = Node(data)\n",
    "        new_node.next = self.head\n",
    "        self.head = new_node\n",
    "\n",
    "    def delete_first(self):\n",
    "        if not self.head:\n",
    "            return \n",
    "        self.head = self.head.next\n",
    "\n",
    "    def insert_at_position(self, data, position):\n",
    "        new_node = Node(data)\n",
    "        if position == 0:\n",
    "            new_node.next = self.head\n",
    "            self.head = new_node\n",
    "            return\n",
    "\n",
    "        current = self.head\n",
    "        count = 0\n",
    "\n",
    "        while current is not None and count < position - 1:\n",
    "            current = current.next\n",
    "            count += 1\n",
    "        \n",
    "        if current is None:\n",
    "            return\n",
    "        \n",
    "        new_node.next = current.next\n",
    "        current.next = new_node\n",
    "\n",
    "\n"
   ]
  },
  {
   "cell_type": "markdown",
   "metadata": {},
   "source": [
    "# вдусвязный список"
   ]
  },
  {
   "cell_type": "code",
   "execution_count": null,
   "metadata": {},
   "outputs": [],
   "source": [
    "def Node:\n"
   ]
  },
  {
   "cell_type": "markdown",
   "metadata": {},
   "source": [
    "# двусвязный свисок со сторожевыми узлами"
   ]
  },
  {
   "cell_type": "markdown",
   "metadata": {},
   "source": [
    "class Node:\n",
    "    def __init__(self, data=None):\n",
    "        self.data = data\n",
    "        self.prev = None\n",
    "        self.next = None\n",
    "\n",
    "class DoublyLinkedList:\n",
    "    def __init__(self):\n",
    "        self.head = Node()  # Сторожевой узел для головы\n",
    "        self.tail = Node()  # Сторожевой узел для хвоста\n",
    "        self.head.next = self.tail\n",
    "        self.tail.prev = self.head\n",
    "\n",
    "    def append(self, data):\n",
    "        new_node = Node(data)\n",
    "        last = self.tail.prev\n",
    "        last.next = new_node\n",
    "        new_node.prev = last\n",
    "        new_node.next = self.tail\n",
    "        self.tail.prev = new_node\n",
    "\n",
    "    def prepend(self, data):\n",
    "        new_node = Node(data)\n",
    "        first = self.head.next\n",
    "        self.head.next = new_node\n",
    "        new_node.prev = self.head\n",
    "        new_node.next = first\n",
    "        first.prev = new_node\n",
    "\n",
    "    def delete(self, node):\n",
    "        if node and node != self.head and node != self.tail:\n",
    "            node.prev.next = node.next\n",
    "            node.next.prev = node.prev\n",
    "\n",
    "    def display(self):\n",
    "        current = self.head.next\n",
    "        while current != self.tail:\n",
    "            print(current.data, end=' ')\n",
    "            current = current.next\n",
    "        print()\n",
    "\n",
    "# Пример использования\n",
    "dll = DoublyLinkedList()\n",
    "dll.append(1)\n",
    "dll.append(2)\n",
    "dll.append(3)\n",
    "dll.prepend(0)\n",
    "dll.display()  # Вывод: 0 1 2 3\n",
    "dll.delete(dll.head.next.next)  # Удаляем второй элемент\n",
    "dll.display()  # Вывод: 0 2 3\n"
   ]
  },
  {
   "cell_type": "markdown",
   "metadata": {},
   "source": [
    "LRU (Least Recently Used) — это алгоритм управления кэшем, который удаляет наименее недавно использованные элементы, чтобы освободить место для новых. Вот как он работает и где применяется:\n",
    "\n",
    "Как работает LRU\n",
    "Отслеживание использования: Каждый элемент в кэше помечается временем последнего использования.\n",
    "Удаление старых элементов: Когда кэш достигает своего максимального размера, удаляется элемент, который не использовался дольше всего.\n",
    "Добавление новых элементов: Новый элемент добавляется в кэш, и его время использования обновляется.\n",
    "Применение LRU\n",
    "Операционные системы: Используется для управления страницами памяти, чтобы минимизировать количество обращений к диску.\n",
    "Веб-кэширование: Применяется в прокси-серверах и браузерах для хранения часто запрашиваемых веб-страниц.\n",
    "Базы данных: Используется для кэширования запросов и результатов, чтобы ускорить доступ к данным.\n",
    "Системы хранения данных: Применяется в системах хранения для управления кэшем дисков или SSD.\n",
    "LRU помогает эффективно использовать ограниченные ресурсы, минимизируя задержки при доступе к данны"
   ]
  }
 ],
 "metadata": {
  "kernelspec": {
   "display_name": "base",
   "language": "python",
   "name": "python3"
  },
  "language_info": {
   "name": "python",
   "version": "3.11.4"
  }
 },
 "nbformat": 4,
 "nbformat_minor": 2
}
