{
 "cells": [
  {
   "cell_type": "code",
   "execution_count": null,
   "metadata": {},
   "outputs": [],
   "source": [
    "def binary_search(lst, q):\n",
    "    low, hight = 0, len(lst) - 1\n",
    "    while low <= hight:\n",
    "        mid = (low + hight) // 2\n",
    "        if lst[mid] == q:\n",
    "            return mid\n",
    "        if mid < q:\n",
    "            low = mid + 1\n",
    "        elif mid > q:\n",
    "            hight = mid - 1\n",
    "    return -1\n",
    "\n",
    "def multiple_search(sorted_lst, keys):\n",
    "    indexes = []\n",
    "    for key in keys:\n",
    "        index = binary_search(sorted_lst, key)\n",
    "        indexes.append(index)\n",
    "    return indexes\n",
    "\n",
    "\n",
    "\n",
    "\n",
    "\n",
    "\n"
   ]
  },
  {
   "cell_type": "code",
   "execution_count": null,
   "metadata": {},
   "outputs": [],
   "source": [
    "import bisect\n",
    "\n",
    "index_left = bisect.bisect_left(data, 4)\n"
   ]
  }
 ],
 "metadata": {
  "kernelspec": {
   "display_name": "base",
   "language": "python",
   "name": "python3"
  },
  "language_info": {
   "name": "python",
   "version": "3.11.4"
  }
 },
 "nbformat": 4,
 "nbformat_minor": 2
}
