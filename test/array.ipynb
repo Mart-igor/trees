{
 "cells": [
  {
   "cell_type": "code",
   "execution_count": null,
   "metadata": {},
   "outputs": [],
   "source": [
    "class Array:\n",
    "    def __init__(self):\n",
    "        self._array = []\n",
    "\n",
    "    def __str__(self):\n",
    "        return 'Взаимодействие с массивом: ' + str(self._array)\n",
    "\n",
    "    def append(self, other):\n",
    "        self._array.append(other)\n",
    "\n",
    "    def __len__(self):\n",
    "        return len(self._array)\n",
    "\n",
    "    def __bool__(self):\n",
    "        return len(self._array) > 0\n",
    "\n",
    "    def __getitem__(self, index):\n",
    "        return self._array[index]\n",
    "\n",
    "    def __setitem__(self, key, value):\n",
    "        self._array[key] = value\n",
    "\n",
    "    def __iter__(self):\n",
    "        self.current = 0\n",
    "        return self\n",
    "\n",
    "    def __next__(self):\n",
    "        if self.current < len(self._array):\n",
    "            value = self._array[self.current]\n",
    "            self.current += 1\n",
    "            return value\n",
    "        raise StopIteration\n",
    "\n",
    "    def __call__(self, name):\n",
    "        return f\"It's name {name}\"\n",
    "\n",
    "    def __eq__(self, other):\n",
    "        return self._array == other\n",
    "\n",
    "    def __gt__(self, other):\n",
    "        return self._array > other\n",
    "\n",
    "    def __contains__(self, item):\n",
    "        return item in self._array\n",
    "\n",
    "    def clear(self):\n",
    "        self._array.clear()\n",
    "        return 'Массив очищен'\n",
    "    \n",
    "    def __insert__(self, key, value):\n",
    "        return self._array.insert(key, value)\n"
   ]
  },
  {
   "cell_type": "code",
   "execution_count": null,
   "metadata": {},
   "outputs": [],
   "source": [
    "# Создание экземпляра класса Array\n",
    "my_array = Array()\n",
    "\n",
    "# Добавление элементов в массив\n",
    "my_array.append(10)\n",
    "my_array.append(20)\n",
    "my_array.append(30)\n",
    "\n",
    "# Вывод массива\n",
    "print(my_array)  # Вывод: Взаимодействие с массивом: [10, 20, 30]\n",
    "\n",
    "# Получение длины массива\n",
    "print(len(my_array))  # Вывод: 3\n",
    "\n",
    "# Проверка, пустой ли массив\n",
    "print(bool(my_array))  # Вывод: True\n",
    "\n",
    "# Доступ к элементам массива\n",
    "print(my_array[1])  # Вывод: 20\n",
    "\n",
    "# Изменение элемента массива\n",
    "my_array[1] = 25\n",
    "print(my_array)  # Вывод: Взаимодействие с массивом: [10, 25, 30]\n",
    "\n",
    "# Итерация по элементам массива\n",
    "for item in my_array:\n",
    "    print(item)  # Вывод: 10, 25, 30\n",
    "\n",
    "# Сравнение с другим массивом\n",
    "other_array = Array()\n",
    "other_array.append(10)\n",
    "other_array.append(25)\n",
    "other_array.append(30)\n",
    "print(my_array == other_array)  # Вывод: True\n",
    "\n",
    "# Очистка массива\n",
    "my_array.clear()\n",
    "print(my_array)  # Вывод: Взаимодействие с массивом: []\n"
   ]
  },
  {
   "cell_type": "code",
   "execution_count": null,
   "metadata": {},
   "outputs": [],
   "source": [
    "# Предположим, у вас есть массив, и вы хотите, чтобы он автоматически \n",
    "# сортировался каждый раз, когда вы добавляете новый элемент. \n",
    "# Вы можете переопределить метод append, чтобы включить эту логику:\n"
   ]
  },
  {
   "cell_type": "code",
   "execution_count": 1,
   "metadata": {},
   "outputs": [
    {
     "name": "stdout",
     "output_type": "stream",
     "text": [
      "[]\n"
     ]
    }
   ],
   "source": [
    "a = []\n",
    "for i in range(0):\n",
    "    a.appent(i)\n",
    "print(a)"
   ]
  },
  {
   "cell_type": "code",
   "execution_count": null,
   "metadata": {},
   "outputs": [],
   "source": []
  }
 ],
 "metadata": {
  "kernelspec": {
   "display_name": "base",
   "language": "python",
   "name": "python3"
  },
  "language_info": {
   "codemirror_mode": {
    "name": "ipython",
    "version": 3
   },
   "file_extension": ".py",
   "mimetype": "text/x-python",
   "name": "python",
   "nbconvert_exporter": "python",
   "pygments_lexer": "ipython3",
   "version": "3.11.4"
  }
 },
 "nbformat": 4,
 "nbformat_minor": 2
}
