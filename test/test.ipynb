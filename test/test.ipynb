{
 "cells": [
  {
   "cell_type": "code",
   "execution_count": null,
   "metadata": {},
   "outputs": [
    {
     "ename": "SyntaxError",
     "evalue": "incomplete input (971877185.py, line 18)",
     "output_type": "error",
     "traceback": [
      "\u001b[1;36m  Cell \u001b[1;32mIn[1], line 18\u001b[1;36m\u001b[0m\n\u001b[1;33m    \u001b[0m\n\u001b[1;37m    ^\u001b[0m\n\u001b[1;31mSyntaxError\u001b[0m\u001b[1;31m:\u001b[0m incomplete input\n"
     ]
    }
   ],
   "source": [
    "class TreeNode:\n",
    "    def __init__(self, value):\n",
    "        self.key = value\n",
    "        self.left = None\n",
    "        self.right = None\n",
    "\n",
    "class BST:\n",
    "    def __init__(self):\n",
    "        self.root = None\n",
    "\n",
    "    def insert(self, key):\n",
    "        if not self.root:\n",
    "            self.root = TreeNode(key)\n",
    "        else:\n",
    "            self._insert_rec(self.root, key)\n",
    "    \n",
    "    def _insert_rec(self, node, key):\n",
    "        if key < node.key:\n",
    "            if node.left is None:\n",
    "                node.left = TreeNode(key)\n",
    "            else:\n",
    "                self._insert_rec(node.left, key)\n",
    "        else:\n",
    "            if node.right is None:\n",
    "                node.right = TreeNode(key)\n",
    "            else:\n",
    "                self._insert_rec(node.right, key) \n",
    "    \n",
    "    def search(self, key):\n",
    "        return _search_a(self.root, key)\n",
    "    \n",
    "    def _search_a(self, node, key):\n",
    "        if node is None or node.key == key:\n",
    "            return node\n",
    "        \n",
    "        if key < node.key:\n",
    "            return _search_a(node.left, key)\n",
    "        return _search_a(node.right, key)\n",
    "    \n",
    "    def delete(self, key):\n",
    "        return _delete_rec(self.root, key)\n",
    "    \n",
    "    def _delete_rec(self, node, key):\n",
    "        if key < node.key:\n",
    "            node.left = _delete_rec(node.left, key)\n",
    "        elif key > node.key:\n",
    "            node.right = _delete_rec(node.right, key)\n",
    "         \n",
    "\n",
    "        else:\n",
    "            if node.left is None and node.right is None:\n",
    "                return None\n",
    "            elif node.left is None:\n",
    "                return node.right\n",
    "            else:\n",
    "                min_large\n",
    "\n",
    "        \n"
   ]
  },
  {
   "cell_type": "code",
   "execution_count": 1,
   "metadata": {},
   "outputs": [
    {
     "name": "stdout",
     "output_type": "stream",
     "text": [
      "240.0\n"
     ]
    }
   ],
   "source": [
    "def fractional_knapsack(items, capacity):\n",
    "    # Сортируем предметы по убыванию соотношения стоимости к весу\n",
    "    items.sort(key=lambda x: x[1] / x[0], reverse=True)\n",
    "    \n",
    "    total_value = 0\n",
    "    for weight, value in items:\n",
    "        if capacity >= weight:\n",
    "            total_value += value\n",
    "            capacity -= weight\n",
    "        else:\n",
    "            total_value += (capacity / weight) * value\n",
    "            break\n",
    "\n",
    "    return total_value\n",
    "\n",
    "# Пример\n",
    "items = [(10, 60), (20, 100), (30, 120)]  # (вес, стоимость)\n",
    "capacity = 50\n",
    "print(fractional_knapsack(items, capacity))\n",
    "# Вывод: 240.0"
   ]
  },
  {
   "cell_type": "code",
   "execution_count": null,
   "metadata": {},
   "outputs": [],
   "source": [
    "def paths(n, m, arr) -> int:\n",
    "    return helper(n, m, arr)\n",
    "\n",
    "def helper(n, m , arr):\n",
    "    if n < 0 or m < 0:\n",
    "        return 0\n",
    "    if n == 1 and m == 1:\n",
    "        return 1\n",
    "    if arr[n][m] != 0:\n",
    "        return arr[n][m]\n",
    "    return helper(n - 1, m, arr) + helper(n, m - 1, arr)"
   ]
  }
 ],
 "metadata": {
  "kernelspec": {
   "display_name": "base",
   "language": "python",
   "name": "python3"
  },
  "language_info": {
   "codemirror_mode": {
    "name": "ipython",
    "version": 3
   },
   "file_extension": ".py",
   "mimetype": "text/x-python",
   "name": "python",
   "nbconvert_exporter": "python",
   "pygments_lexer": "ipython3",
   "version": "3.11.4"
  }
 },
 "nbformat": 4,
 "nbformat_minor": 2
}
